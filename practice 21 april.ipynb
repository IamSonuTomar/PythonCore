{
 "cells": [
  {
   "cell_type": "code",
   "execution_count": 2,
   "id": "ab93831c",
   "metadata": {},
   "outputs": [
    {
     "name": "stdout",
     "output_type": "stream",
     "text": [
      "current no is 1 previous no is 0 and sum is 1\n",
      "current no is 2 previous no is 1 and sum is 3\n",
      "current no is 3 previous no is 2 and sum is 5\n",
      "current no is 4 previous no is 3 and sum is 7\n",
      "current no is 5 previous no is 4 and sum is 9\n",
      "current no is 6 previous no is 5 and sum is 11\n",
      "current no is 7 previous no is 6 and sum is 13\n",
      "current no is 8 previous no is 7 and sum is 15\n",
      "current no is 9 previous no is 8 and sum is 17\n",
      "current no is 10 previous no is 9 and sum is 19\n"
     ]
    }
   ],
   "source": [
    "previous_no =0\n",
    "for i in range(1,11):\n",
    "    sum1=previous_no +i\n",
    "    print(f\"current no is {i} previous no is {previous_no} and sum is {sum1}\")\n",
    "    previous_no=i"
   ]
  },
  {
   "cell_type": "code",
   "execution_count": 3,
   "id": "a3e8055e",
   "metadata": {},
   "outputs": [
    {
     "name": "stdout",
     "output_type": "stream",
     "text": [
      "p\n",
      "n\n",
      "t\n",
      "v\n"
     ]
    }
   ],
   "source": [
    "x=\"pynative\"\n",
    "w=list(x)\n",
    "for i in w[0::2]:\n",
    "    print(i)"
   ]
  },
  {
   "cell_type": "code",
   "execution_count": 5,
   "id": "3f236fec",
   "metadata": {},
   "outputs": [
    {
     "name": "stdout",
     "output_type": "stream",
     "text": [
      "original string is  pynative\n"
     ]
    },
    {
     "data": {
      "text/plain": [
       "'tive'"
      ]
     },
     "execution_count": 5,
     "metadata": {},
     "output_type": "execute_result"
    }
   ],
   "source": [
    "def x(word,n):\n",
    "    print(\"original string is \",word)\n",
    "    x=word[n:]\n",
    "    return x\n",
    "\n",
    "x(\"pynative\",4)"
   ]
  },
  {
   "cell_type": "code",
   "execution_count": 20,
   "id": "39f3cfef",
   "metadata": {},
   "outputs": [
    {
     "name": "stdout",
     "output_type": "stream",
     "text": [
      "original list:  [1, 20, 30, 2]\n",
      "False\n"
     ]
    }
   ],
   "source": [
    "def check(nolist):\n",
    "    print(\"original list: \",nolist)\n",
    "    x=nolist[0]\n",
    "    y=nolist[-1]\n",
    "    if x==y:\n",
    "        return True\n",
    "    else:\n",
    "        return False\n",
    "        \n",
    "z=[1,20,30,2]\n",
    "print(check(z))"
   ]
  },
  {
   "cell_type": "code",
   "execution_count": 27,
   "id": "3fcff55f",
   "metadata": {},
   "outputs": [
    {
     "name": "stdout",
     "output_type": "stream",
     "text": [
      "true\n"
     ]
    }
   ],
   "source": [
    "z=[1,2,3,1]\n",
    "for i in z:\n",
    "    if z[0]==z[-1]:\n",
    "        print(\"true\")\n",
    "    else:\n",
    "        print(\"false\")\n",
    "    break"
   ]
  },
  {
   "cell_type": "code",
   "execution_count": 30,
   "id": "edde66e1",
   "metadata": {},
   "outputs": [
    {
     "name": "stdout",
     "output_type": "stream",
     "text": [
      "20 is multiple of 5\n",
      "25 is multiple of 5\n",
      "65 is multiple of 5\n"
     ]
    }
   ],
   "source": [
    "c=[20,25,65,89,23,12]\n",
    "for i in c :\n",
    "    if i%5==0:\n",
    "        print(i,\"is multiple of 5\")\n",
    "    else:\n",
    "        0"
   ]
  },
  {
   "cell_type": "code",
   "execution_count": null,
   "id": "919966d4",
   "metadata": {},
   "outputs": [],
   "source": []
  }
 ],
 "metadata": {
  "kernelspec": {
   "display_name": "Python 3 (ipykernel)",
   "language": "python",
   "name": "python3"
  },
  "language_info": {
   "codemirror_mode": {
    "name": "ipython",
    "version": 3
   },
   "file_extension": ".py",
   "mimetype": "text/x-python",
   "name": "python",
   "nbconvert_exporter": "python",
   "pygments_lexer": "ipython3",
   "version": "3.10.2"
  }
 },
 "nbformat": 4,
 "nbformat_minor": 5
}
