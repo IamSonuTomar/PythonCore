{
 "cells": [
  {
   "cell_type": "code",
   "execution_count": 8,
   "id": "8e836c48",
   "metadata": {},
   "outputs": [
    {
     "name": "stdout",
     "output_type": "stream",
     "text": [
      "enter a no : 5\n",
      "5 x 1 = 5\n",
      "5 x 2 = 10\n",
      "5 x 3 = 15\n",
      "5 x 4 = 20\n",
      "5 x 5 = 25\n",
      "5 x 6 = 30\n",
      "5 x 7 = 35\n",
      "5 x 8 = 40\n",
      "5 x 9 = 45\n",
      "5 x 10 = 50\n",
      "enter anything  :: we have to forget past to rule in future\n",
      "['w', 'e', ' ', 'h', 'a', 'v', 'e', ' ', 't', 'o', ' ', 'f', 'o', 'r', 'g', 'e', 't', ' ', 'p', 'a', 's', 't', ' ', 't', 'o', ' ', 'r', 'u', 'l', 'e', ' ', 'i', 'n', ' ', 'f', 'u', 't', 'u', 'r', 'e']\n"
     ]
    }
   ],
   "source": [
    "#Create a class and make two methods in this class. In first\n",
    "#method print a table of any random number and in second\n",
    "#method print a list. Take user input.\n",
    "class table:\n",
    "    def tab(self):\n",
    "        a=int(input(\"enter a no : \"))\n",
    "        for i in range (1,11):\n",
    "            print(a ,\"x\" ,i ,\"=\" ,a*i)\n",
    "    def LIST(self):\n",
    "        v=list(input(\"enter anything  :: \"))\n",
    "        print(v)\n",
    "s=table()\n",
    "s.tab()\n",
    "s.LIST()\n",
    "\n",
    "\n"
   ]
  },
  {
   "cell_type": "markdown",
   "id": "890f4b2f",
   "metadata": {},
   "source": [
    "question no 2  :: Create a class and make three methods in this class. In Frist\n",
    "method use __init__ function and print (“Honesty is the best\n",
    "policy”), in second method print a tuple with the help of while\n",
    "loop, and in third method find the exponent. Take user input as\n",
    "per your requirement. Create two objects in this class.\n"
   ]
  },
  {
   "cell_type": "code",
   "execution_count": 5,
   "id": "0a3b5ee8",
   "metadata": {},
   "outputs": [
    {
     "name": "stdout",
     "output_type": "stream",
     "text": [
      "Honesty is the best policy \n",
      "sonia\n",
      "dish\n",
      "cook\n",
      "enter a no 1 : 56\n",
      "enter a no 2 : 4\n",
      "9834496\n"
     ]
    }
   ],
   "source": [
    "class s:\n",
    "    def __init__(self):\n",
    "        print(\"Honesty is the best policy \")\n",
    "    def TUPLE(self):\n",
    "        v=(\"sonia\",\"dish\",\"cook\")\n",
    "        i=0\n",
    "        while i <len(v):\n",
    "            print(v[i])\n",
    "            i=i+1\n",
    "    def expo (self):\n",
    "        a=int(input(\"enter a no 1 : \"))\n",
    "        b=int(input(\"enter a no 2 : \"))\n",
    "        c=a**b\n",
    "        print(c)\n",
    "d=s()\n",
    "h=d \n",
    "h.TUPLE()\n",
    "h.expo()"
   ]
  },
  {
   "cell_type": "code",
   "execution_count": 20,
   "id": "54aad7d9",
   "metadata": {},
   "outputs": [
    {
     "name": "stdout",
     "output_type": "stream",
     "text": [
      "Akash has been promoted to CEO of our new tech company for his excellence srvice in company for  4 years\n",
      "now the increment of  Akash is 100 thousand \n"
     ]
    }
   ],
   "source": [
    "#Create two classes, first class inherited by the second class,\n",
    "#create two methods in first class as per your choice, and create\n",
    "#two methods in second class, in first method print any\n",
    "#statement, in second method do multiplication. Use __init__\n",
    "#function and super(). Function. Take arguments as per your\n",
    "#requirement.\n",
    "class employee:\n",
    "    def __init__(self,name,age):\n",
    "        self.name=name\n",
    "        self.age=age\n",
    "    def about(self):\n",
    "        print(self.name,\"is the best employee of the year\")\n",
    "class company(employee):\n",
    "    def __init__(self,name,age,years):\n",
    "        super().__init__(name,age)\n",
    "        self.years=years\n",
    "    def promotion(self):\n",
    "        print(self.name,\"has been promoted to CEO of our new tech company for his excellence srvice in company for \",self.years,\"years\")\n",
    "    def increment(self):\n",
    "        c=self.age*self.years\n",
    "        print(\"now the increment of \",self.name,\"is\",c,\"thousand \")\n",
    "        \n",
    "        \n",
    "        \n",
    "s=company(\"Akash\",25,4)\n",
    "s.promotion()\n",
    "s.increment()\n",
    "        "
   ]
  },
  {
   "cell_type": "code",
   "execution_count": 26,
   "id": "cbe55d30",
   "metadata": {},
   "outputs": [
    {
     "name": "stdout",
     "output_type": "stream",
     "text": [
      "univ will gift vvip pass for new library opening ceremony and treaksha book to top 100 lecturer of state\n",
      "we will open our new library in cp tomarrow\n",
      "our new book is treaksha\n"
     ]
    }
   ],
   "source": [
    "#Create classes and do a programme which shows multiple\n",
    "#inheritance. Create methods in this classes as per your choice.\n",
    "\n",
    "class books :\n",
    "    def new(self):\n",
    "        print(\"our new book is treaksha\")\n",
    "class lib:\n",
    "    def jk(self):\n",
    "        print(\"we will open our new library in cp tomarrow\")\n",
    "class univ(books,lib):\n",
    "    def __init__(self):\n",
    "        print(\"univ will gift vvip pass for new library opening ceremony and treaksha book to top 100 lecturer of state\")\n",
    "z=univ()\n",
    "z.jk()\n",
    "z.new()"
   ]
  },
  {
   "cell_type": "code",
   "execution_count": 27,
   "id": "84714858",
   "metadata": {},
   "outputs": [
    {
     "name": "stdout",
     "output_type": "stream",
     "text": [
      "up govt. will gift vvip pass for new filmcity opening ceremony and free meal to top 10 performer of national school of drama\n",
      "we will open our new filmcity in up tomarrow\n",
      "lekh\n"
     ]
    }
   ],
   "source": [
    "class film:\n",
    "    def new(self):\n",
    "        print(\"lekh\")\n",
    "class cer(film):\n",
    "    def jk(self):\n",
    "        print(\"we will open our new filmcity in up tomarrow\")\n",
    "class hero(cer):\n",
    "    def __init__(self):\n",
    "        print(\"up govt. will gift vvip pass for new filmcity opening ceremony and free meal to top 10 performer of national school of drama\")\n",
    "sd=hero()\n",
    "sd.jk()\n",
    "sd.new()"
   ]
  },
  {
   "cell_type": "code",
   "execution_count": null,
   "id": "b51a882c",
   "metadata": {},
   "outputs": [],
   "source": [
    "class first :\n",
    "    def __init__(self,a):\n",
    "        self.a=a\n",
    "        print"
   ]
  }
 ],
 "metadata": {
  "kernelspec": {
   "display_name": "Python 3 (ipykernel)",
   "language": "python",
   "name": "python3"
  },
  "language_info": {
   "codemirror_mode": {
    "name": "ipython",
    "version": 3
   },
   "file_extension": ".py",
   "mimetype": "text/x-python",
   "name": "python",
   "nbconvert_exporter": "python",
   "pygments_lexer": "ipython3",
   "version": "3.10.2"
  }
 },
 "nbformat": 4,
 "nbformat_minor": 5
}
