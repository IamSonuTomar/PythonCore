{
 "cells": [
  {
   "cell_type": "code",
   "execution_count": 2,
   "id": "ff922399",
   "metadata": {},
   "outputs": [
    {
     "name": "stdout",
     "output_type": "stream",
     "text": [
      "enter a no : 89\n",
      "89 178 267 356 445 534 623 712 801 890 "
     ]
    }
   ],
   "source": [
    "# printting a no table using for loop ; \n",
    "a=int(input('enter a no : '))\n",
    "for i in range (1,11):\n",
    "    print(i*a,end=(\" \"))"
   ]
  },
  {
   "cell_type": "code",
   "execution_count": 33,
   "id": "62ae58bc",
   "metadata": {},
   "outputs": [
    {
     "name": "stdout",
     "output_type": "stream",
     "text": [
      "enter a no : 11\n",
      "11 is a prime no\n"
     ]
    }
   ],
   "source": [
    "n=int(input('enter a no : '))\n",
    "for i in range (2,n):\n",
    "    if n%i==0:\n",
    "        print(n ,'is not a prime no')\n",
    "        break\n",
    "else:\n",
    "    print(n,'is a prime no')"
   ]
  },
  {
   "cell_type": "code",
   "execution_count": 37,
   "id": "bb406515",
   "metadata": {},
   "outputs": [
    {
     "name": "stdout",
     "output_type": "stream",
     "text": [
      "enter a no : 56\n",
      "True\n"
     ]
    }
   ],
   "source": [
    "n=int(input('enter a no : '))\n",
    "for i in range (2,n):\n",
    "    print(n%i==0)\n",
    "    break"
   ]
  },
  {
   "cell_type": "code",
   "execution_count": 17,
   "id": "35b1228b",
   "metadata": {},
   "outputs": [
    {
     "name": "stdout",
     "output_type": "stream",
     "text": [
      "True\n"
     ]
    }
   ],
   "source": [
    "is_prime=True\n",
    "n=2\n",
    "for i in range (2,n):\n",
    "    if n%i==0:\n",
    "        is_prime=False\n",
    "print(is_prime)"
   ]
  },
  {
   "cell_type": "code",
   "execution_count": 29,
   "id": "42109d6f",
   "metadata": {},
   "outputs": [
    {
     "name": "stdout",
     "output_type": "stream",
     "text": [
      "abc  \n",
      "def  \n",
      "ghi  \n",
      "jal  \n",
      "mmo  \n",
      "pqr"
     ]
    }
   ],
   "source": [
    "text=\"abc def ghi jal mmo pqr\"\n",
    "for i in  text:\n",
    "    print(i,end=\"\")\n",
    "    if i ==\" \":\n",
    "        print(i)"
   ]
  },
  {
   "cell_type": "code",
   "execution_count": 2,
   "id": "ad7da90c",
   "metadata": {},
   "outputs": [
    {
     "name": "stdout",
     "output_type": "stream",
     "text": [
      "while loop 10\n",
      "while loop 9\n",
      "while loop 8\n",
      "while loop 7\n",
      "while loop 6\n",
      "while loop 5\n",
      "while loop 4\n",
      "while loop 3\n",
      "while loop 2\n",
      "while loop 1\n"
     ]
    }
   ],
   "source": [
    "i=10\n",
    "while i:\n",
    "    print(\"while loop\",i)\n",
    "    i=i-1"
   ]
  },
  {
   "cell_type": "code",
   "execution_count": 13,
   "id": "12ba6073",
   "metadata": {},
   "outputs": [
    {
     "name": "stdout",
     "output_type": "stream",
     "text": [
      "ascending order 2\n",
      "ascending order 4\n",
      "ascending order 6\n",
      "ascending order 8\n",
      "ascending order 10\n",
      "ascending order 12\n",
      "ascending order 14\n",
      "ascending order 16\n",
      "ascending order 18\n",
      "ascending order 20\n",
      "ascending order 22\n",
      "ascending order 24\n",
      "ascending order 26\n",
      "ascending order 28\n",
      "ascending order 30\n",
      "ascending order 32\n",
      "ascending order 34\n",
      "ascending order 36\n",
      "ascending order 38\n",
      "ascending order 40\n"
     ]
    }
   ],
   "source": [
    "i=1\n",
    "while i<=20:\n",
    "    print(\"ascending order\",i*2)\n",
    "    i=i+1"
   ]
  },
  {
   "cell_type": "code",
   "execution_count": 1,
   "id": "7fb5cf7e",
   "metadata": {},
   "outputs": [],
   "source": [
    "def sqrt (x):\n",
    "    return x**(0.5)"
   ]
  },
  {
   "cell_type": "code",
   "execution_count": 4,
   "id": "507ec015",
   "metadata": {},
   "outputs": [
    {
     "data": {
      "text/plain": [
       "4.0"
      ]
     },
     "execution_count": 4,
     "metadata": {},
     "output_type": "execute_result"
    }
   ],
   "source": [
    "sqrt(4)\n"
   ]
  },
  {
   "cell_type": "code",
   "execution_count": 5,
   "id": "f59aeec7",
   "metadata": {},
   "outputs": [
    {
     "data": {
      "text/plain": [
       "4.0"
      ]
     },
     "execution_count": 5,
     "metadata": {},
     "output_type": "execute_result"
    }
   ],
   "source": [
    "sqrt(16)"
   ]
  },
  {
   "cell_type": "code",
   "execution_count": 6,
   "id": "f3cd4f33",
   "metadata": {},
   "outputs": [],
   "source": [
    "def calc (a,b):\n",
    "    add=a+b\n",
    "    sub= a-b\n",
    "    div=a/b\n",
    "    mul=a*b\n",
    "    return add,sub,div,mul"
   ]
  },
  {
   "cell_type": "code",
   "execution_count": 7,
   "id": "3dc29a6a",
   "metadata": {},
   "outputs": [
    {
     "data": {
      "text/plain": [
       "(899545357, -898427559, 0.0006216990200757841, 502442632389742)"
      ]
     },
     "execution_count": 7,
     "metadata": {},
     "output_type": "execute_result"
    }
   ],
   "source": [
    "calc(558899,8986458)"
   ]
  },
  {
   "cell_type": "code",
   "execution_count": 20,
   "id": "147b96c2",
   "metadata": {},
   "outputs": [],
   "source": [
    "def greet(x):\n",
    "    return('welcome:',x)"
   ]
  },
  {
   "cell_type": "code",
   "execution_count": 21,
   "id": "2bc4ea67",
   "metadata": {},
   "outputs": [
    {
     "data": {
      "text/plain": [
       "('welcome:', 'akshay')"
      ]
     },
     "execution_count": 21,
     "metadata": {},
     "output_type": "execute_result"
    }
   ],
   "source": [
    "greet ('akshay')"
   ]
  },
  {
   "cell_type": "code",
   "execution_count": 32,
   "id": "6b17d631",
   "metadata": {},
   "outputs": [],
   "source": [
    "def add(x,y):\n",
    "    return x+y"
   ]
  },
  {
   "cell_type": "code",
   "execution_count": 33,
   "id": "5dcff9a5",
   "metadata": {},
   "outputs": [
    {
     "data": {
      "text/plain": [
       "3"
      ]
     },
     "execution_count": 33,
     "metadata": {},
     "output_type": "execute_result"
    }
   ],
   "source": [
    "add(1,2)"
   ]
  },
  {
   "cell_type": "code",
   "execution_count": null,
   "id": "f0af7900",
   "metadata": {},
   "outputs": [],
   "source": []
  }
 ],
 "metadata": {
  "kernelspec": {
   "display_name": "Python 3 (ipykernel)",
   "language": "python",
   "name": "python3"
  },
  "language_info": {
   "codemirror_mode": {
    "name": "ipython",
    "version": 3
   },
   "file_extension": ".py",
   "mimetype": "text/x-python",
   "name": "python",
   "nbconvert_exporter": "python",
   "pygments_lexer": "ipython3",
   "version": "3.10.2"
  }
 },
 "nbformat": 4,
 "nbformat_minor": 5
}
