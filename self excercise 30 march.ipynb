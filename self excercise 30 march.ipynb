{
 "cells": [
  {
   "cell_type": "code",
   "execution_count": 1,
   "id": "34733442",
   "metadata": {},
   "outputs": [
    {
     "data": {
      "text/plain": [
       "600"
      ]
     },
     "execution_count": 1,
     "metadata": {},
     "output_type": "execute_result"
    }
   ],
   "source": [
    "#que no 1\n",
    "a=20\n",
    "b=30\n",
    "a*b"
   ]
  },
  {
   "cell_type": "code",
   "execution_count": 2,
   "id": "a9a17f21",
   "metadata": {},
   "outputs": [
    {
     "data": {
      "text/plain": [
       "70"
      ]
     },
     "execution_count": 2,
     "metadata": {},
     "output_type": "execute_result"
    }
   ],
   "source": [
    "a=40\n",
    "b=30\n",
    "a+b"
   ]
  },
  {
   "cell_type": "code",
   "execution_count": 3,
   "id": "d86cbb9d",
   "metadata": {},
   "outputs": [
    {
     "name": "stdout",
     "output_type": "stream",
     "text": [
      "current no : 1 sum= 1 previous no = 0\n",
      "current no : 2 sum= 3 previous no = 1\n",
      "current no : 3 sum= 5 previous no = 2\n",
      "current no : 4 sum= 7 previous no = 3\n",
      "current no : 5 sum= 9 previous no = 4\n",
      "current no : 6 sum= 11 previous no = 5\n",
      "current no : 7 sum= 13 previous no = 6\n",
      "current no : 8 sum= 15 previous no = 7\n",
      "current no : 9 sum= 17 previous no = 8\n",
      "current no : 10 sum= 19 previous no = 9\n"
     ]
    }
   ],
   "source": [
    "p_num=0\n",
    "for i in range(1,11):\n",
    "    x_num=p_num+i\n",
    "    print(\"current no :\",i,\"sum=\",x_num,\"previous no =\",p_num)\n",
    "    p_num=i"
   ]
  },
  {
   "cell_type": "code",
   "execution_count": 10,
   "id": "dff89b82",
   "metadata": {},
   "outputs": [
    {
     "name": "stdout",
     "output_type": "stream",
     "text": [
      "enter a string :akash is good boy\n",
      "a\n",
      "a\n",
      "h\n",
      "i\n",
      " \n",
      "o\n",
      "d\n",
      "b\n",
      "y\n"
     ]
    }
   ],
   "source": [
    "a=input(\"enter a string :\")\n",
    "x=list(a)\n",
    "for i in x[0::2]:\n",
    "    print (i)"
   ]
  },
  {
   "cell_type": "code",
   "execution_count": 15,
   "id": "1977503f",
   "metadata": {},
   "outputs": [
    {
     "name": "stdout",
     "output_type": "stream",
     "text": [
      "25 90\n"
     ]
    }
   ],
   "source": [
    "class ajay:\n",
    "    def __init__(self,age,marks):\n",
    "        self.age=age\n",
    "        self.marks=marks\n",
    "    def find(self):\n",
    "        print(self.age,self.marks)\n",
    "x=ajay(25,90)\n",
    "x.find()"
   ]
  },
  {
   "cell_type": "code",
   "execution_count": null,
   "id": "c0e9c292",
   "metadata": {},
   "outputs": [],
   "source": []
  }
 ],
 "metadata": {
  "kernelspec": {
   "display_name": "Python 3 (ipykernel)",
   "language": "python",
   "name": "python3"
  },
  "language_info": {
   "codemirror_mode": {
    "name": "ipython",
    "version": 3
   },
   "file_extension": ".py",
   "mimetype": "text/x-python",
   "name": "python",
   "nbconvert_exporter": "python",
   "pygments_lexer": "ipython3",
   "version": "3.10.2"
  }
 },
 "nbformat": 4,
 "nbformat_minor": 5
}
