{
 "cells": [
  {
   "cell_type": "code",
   "execution_count": 2,
   "id": "2786b1db",
   "metadata": {},
   "outputs": [
    {
     "name": "stdout",
     "output_type": "stream",
     "text": [
      "area :  12.588\n"
     ]
    }
   ],
   "source": [
    "# question no 2\n",
    "r=2\n",
    "a=3.147*(r**2)\n",
    "print(\"area : \",a)"
   ]
  },
  {
   "cell_type": "code",
   "execution_count": null,
   "id": "4970fbf1",
   "metadata": {},
   "outputs": [],
   "source": []
  },
  {
   "cell_type": "code",
   "execution_count": 2,
   "id": "98146bec",
   "metadata": {},
   "outputs": [
    {
     "name": "stdout",
     "output_type": "stream",
     "text": [
      "['sunday', 'monday', 'tuesday', 'wednesday', 'thrusday', 'friday', 'saturday']\n"
     ]
    }
   ],
   "source": [
    "#question no 1\n",
    "days=[\"sunday\",\"monday\",\"tuesday\",\"wednesday\",\"thrusday\",\"friday\",\"saturday\"]\n",
    "while len(days):\n",
    "    print(days)\n",
    "    break\n",
    "\n"
   ]
  },
  {
   "cell_type": "code",
   "execution_count": 8,
   "id": "5c9d0794",
   "metadata": {},
   "outputs": [
    {
     "name": "stdout",
     "output_type": "stream",
     "text": [
      "no is zero\n"
     ]
    }
   ],
   "source": [
    "#Find the number is positive, negative and zero.\n",
    "a=0\n",
    "if a>0:\n",
    "    print(\"no is positive:\")\n",
    "elif a<=-1:\n",
    "    print(\"no is negative\")\n",
    "else:\n",
    "    print(\"no is zero\")\n"
   ]
  },
  {
   "cell_type": "code",
   "execution_count": 9,
   "id": "c5dbf5d6",
   "metadata": {},
   "outputs": [
    {
     "name": "stdout",
     "output_type": "stream",
     "text": [
      "0\n",
      "1\n",
      "2\n",
      "3\n",
      "4\n",
      "5\n",
      "6\n",
      "7\n",
      "8\n",
      "9\n",
      "10\n",
      "11\n",
      "12\n",
      "13\n",
      "14\n",
      "15\n",
      "16\n",
      "17\n",
      "18\n",
      "19\n",
      "20\n"
     ]
    }
   ],
   "source": [
    "# 4. Print first twenty natural numbers.\n",
    "for x in range (0,21):\n",
    "    print(x)"
   ]
  },
  {
   "cell_type": "code",
   "execution_count": 10,
   "id": "234e940d",
   "metadata": {},
   "outputs": [
    {
     "name": "stdout",
     "output_type": "stream",
     "text": [
      "4\n",
      "8\n",
      "12\n",
      "16\n",
      "20\n",
      "24\n",
      "28\n",
      "32\n",
      "36\n",
      "40\n"
     ]
    }
   ],
   "source": [
    "def table(x):\n",
    "    for i in range (1,11):\n",
    "        print(x*i)\n",
    "\n",
    "table(4)"
   ]
  },
  {
   "cell_type": "code",
   "execution_count": 26,
   "id": "756408ca",
   "metadata": {},
   "outputs": [
    {
     "name": "stdout",
     "output_type": "stream",
     "text": [
      "120\n"
     ]
    },
    {
     "data": {
      "text/plain": [
       "6000"
      ]
     },
     "execution_count": 26,
     "metadata": {},
     "output_type": "execute_result"
    }
   ],
   "source": [
    "\n",
    "# x = P (1 + rt)\n",
    "# A\t=\tfinal amount\n",
    "# P\t=\tinitial principal balance\n",
    "# r\t=\tannual interest rate\n",
    "# t\t=\ttime (in years)\n",
    "\n",
    "def simpleintr(p,r,t):\n",
    "    x=p*(1+(r*t))\n",
    "    return x\n",
    "def vcuboid(l,b,h):\n",
    "    y=l*b*h\n",
    "    print(y)\n",
    "       \n",
    "\n",
    "vcuboid(4,5,6)\n",
    "simpleintr(2000,1,2)\n"
   ]
  },
  {
   "cell_type": "code",
   "execution_count": 28,
   "id": "c189c784",
   "metadata": {},
   "outputs": [
    {
     "name": "stdout",
     "output_type": "stream",
     "text": [
      "['soap', 'max', 4]\n",
      "['soap', 'max', 4]\n",
      "['soap', 'max', 4]\n"
     ]
    }
   ],
   "source": [
    "l=[\"soap\",\"max\",4]\n",
    "for i in range (len(l)):\n",
    "    print(l)"
   ]
  },
  {
   "cell_type": "code",
   "execution_count": 36,
   "id": "40d770fc",
   "metadata": {},
   "outputs": [
    {
     "name": "stdout",
     "output_type": "stream",
     "text": [
      "[0, 2, 3, 10, 23, 34, 45, 67, 87, 89, 100]\n"
     ]
    }
   ],
   "source": [
    "# Create a function and Sort this list.\n",
    "series=[100,45,67,23,89,0,2,87,3,10,34]\n",
    "def x(v):\n",
    "    x=v.sort()\n",
    "    print(v)\n",
    "x(series)"
   ]
  },
  {
   "cell_type": "code",
   "execution_count": 39,
   "id": "3ed05ba7",
   "metadata": {},
   "outputs": [
    {
     "name": "stdout",
     "output_type": "stream",
     "text": [
      "{1, 2, 3, 'Cherry', 4, 5, 6, 7, 8, 9, 10, 'Banana', 'Mango', 'Apple'}\n"
     ]
    }
   ],
   "source": [
    "First= {\"Apple\",\"Banana\",\"Cherry\",\"Mango\"}\n",
    "Second= {1,2,3,4,5,6,7,8,9,10}\n",
    "First.update(Second)\n",
    "print(First)"
   ]
  },
  {
   "cell_type": "code",
   "execution_count": 43,
   "id": "da354a83",
   "metadata": {},
   "outputs": [
    {
     "name": "stdout",
     "output_type": "stream",
     "text": [
      "{1, 2, 3, 4, 5, 6, 7, 8, 'a', 'f', 'b', 'c', 'e', 'd'}\n"
     ]
    }
   ],
   "source": [
    "# 10. Join two sets\n",
    "A = {1,2,3,4,5,6,7,8,}\n",
    "B = {\"a\",\"b\",\"c\",\"d\",\"e\",\"f\"}\n",
    "s=A.union(B)\n",
    "print(s)"
   ]
  },
  {
   "cell_type": "code",
   "execution_count": 56,
   "id": "72d4a960",
   "metadata": {},
   "outputs": [
    {
     "name": "stdout",
     "output_type": "stream",
     "text": [
      "{'Name': 'Alia', 'Age': 14, 'Roll_No': 24, 'School': 'XYZ'}\n",
      "dict_values(['Alia', 14, 24, 'XYZ'])\n"
     ]
    }
   ],
   "source": [
    "# 11 Change the value “Age” of this dictionary.#Print all the values of this dictionary one by one.\n",
    "student = {\"Name\" : \"Alia\",\"Age\" :  16,\"Roll_No\" : 24,\"School\" : \"XYZ\"}\n",
    "student[\"Age\"]=14\n",
    "print(student)\n",
    "\n",
    "x=student.values()\n",
    "print(x)"
   ]
  },
  {
   "cell_type": "code",
   "execution_count": 58,
   "id": "3418be2e",
   "metadata": {},
   "outputs": [
    {
     "data": {
      "text/plain": [
       "('Wednesday', 'Thursday', 'Friday')"
      ]
     },
     "execution_count": 58,
     "metadata": {},
     "output_type": "execute_result"
    }
   ],
   "source": [
    "# 13 Return third, fourth and fifth items\n",
    "\n",
    "days= (\"Sunday\", \"Monday\", \"Tuesday\", \"Wednesday\", \"Thursday\", \"Friday\", \"Saturday\")\n",
    "days[3:6]"
   ]
  },
  {
   "cell_type": "code",
   "execution_count": 62,
   "id": "5487d15e",
   "metadata": {},
   "outputs": [
    {
     "name": "stdout",
     "output_type": "stream",
     "text": [
      "['banana', 'cherry', 'strawberry', 'raspberry']\n",
      "apple\n"
     ]
    }
   ],
   "source": [
    "# Unpack this tuple with the help of * asterisk\n",
    "fruits=(\"apple\", \"banana\", \"cherry\", \"strawberry\", \"raspberry\")\n",
    "z,*i=fruits\n",
    "print(i)\n",
    "print(z)"
   ]
  },
  {
   "cell_type": "code",
   "execution_count": 69,
   "id": "c828d109",
   "metadata": {},
   "outputs": [
    {
     "data": {
      "text/plain": [
       "{'apple', 'banana', 'cherry', 'orange'}"
      ]
     },
     "execution_count": 69,
     "metadata": {},
     "output_type": "execute_result"
    }
   ],
   "source": [
    "# Add “Orange” in this set with the help of constructor .\n",
    "fruits ={\"apple\", \"banana\", \"cherry\"}\n",
    "x=list(fruits)\n",
    "x=list(fruits)\n",
    "x.append(\"orange\")\n",
    "fruits=set(x)\n",
    "fruits"
   ]
  },
  {
   "cell_type": "code",
   "execution_count": 74,
   "id": "72feb5f7",
   "metadata": {},
   "outputs": [
    {
     "ename": "RuntimeError",
     "evalue": "super(): no arguments",
     "output_type": "error",
     "traceback": [
      "\u001b[1;31m---------------------------------------------------------------------------\u001b[0m",
      "\u001b[1;31mRuntimeError\u001b[0m                              Traceback (most recent call last)",
      "Input \u001b[1;32mIn [74]\u001b[0m, in \u001b[0;36m<module>\u001b[1;34m\u001b[0m\n\u001b[0;32m     12\u001b[0m         b\u001b[38;5;241m=\u001b[39m\u001b[38;5;241m4\u001b[39m\n\u001b[0;32m     13\u001b[0m         \u001b[38;5;28mprint\u001b[39m(a\u001b[38;5;241m*\u001b[39mb)\n\u001b[1;32m---> 14\u001b[0m \u001b[38;5;28;01mclass\u001b[39;00m \u001b[38;5;21;01mchild\u001b[39;00m(parent):\n\u001b[0;32m     15\u001b[0m     \u001b[38;5;28;01mdef\u001b[39;00m \u001b[38;5;21mx\u001b[39m(\u001b[38;5;28mself\u001b[39m):\n\u001b[0;32m     16\u001b[0m         l\u001b[38;5;241m=\u001b[39m[\u001b[38;5;241m1\u001b[39m,\u001b[38;5;241m2\u001b[39m,\u001b[38;5;241m3\u001b[39m,\u001b[38;5;241m4\u001b[39m]\n",
      "Input \u001b[1;32mIn [74]\u001b[0m, in \u001b[0;36mchild\u001b[1;34m()\u001b[0m\n\u001b[0;32m     17\u001b[0m     \u001b[38;5;28;01mfor\u001b[39;00m i \u001b[38;5;129;01min\u001b[39;00m l:\n\u001b[0;32m     18\u001b[0m         \u001b[38;5;28mprint\u001b[39m(l)\n\u001b[1;32m---> 19\u001b[0m \u001b[38;5;28;43msuper\u001b[39;49m\u001b[43m(\u001b[49m\u001b[43m)\u001b[49m\u001b[38;5;241m.\u001b[39m\u001b[38;5;21m__init__\u001b[39m(f)\n\u001b[0;32m     20\u001b[0m \u001b[38;5;28;01mdef\u001b[39;00m \u001b[38;5;21my\u001b[39m(\u001b[38;5;28mself\u001b[39m,a,b):\n\u001b[0;32m     21\u001b[0m     \u001b[38;5;28mself\u001b[39m\u001b[38;5;241m.\u001b[39ma\u001b[38;5;241m=\u001b[39ma\n",
      "\u001b[1;31mRuntimeError\u001b[0m: super(): no arguments"
     ]
    }
   ],
   "source": [
    "#  16 Create a Parent class and create two functions in this parent class first function print “Gud\n",
    "# Morning”, statement and second function will do multiply with the help of two variables, use here\n",
    "# self and __init__ function then create child class and make two functions in this class first function\n",
    "# will print a list with the help of for loop and in second function will find the exponent with two\n",
    "# variables. Use Super() method here.\n",
    "class parent:\n",
    "    def __init__(self,f):\n",
    "        self.f=f\n",
    "        print(\"gud morning\")\n",
    "    def mul(self):\n",
    "        a=5\n",
    "        b=4\n",
    "        print(a*b)\n",
    "class child(parent):\n",
    "    def x(self):\n",
    "        l=[1,2,3,4]\n",
    "        for i in l:\n",
    "            print(l)\n",
    "    super().__init__(f)\n",
    "    def y(self,a,b):\n",
    "        self.a=a\n",
    "        self.b=b\n",
    "        z=self.a**self.b\n",
    "        print(z)\n",
    "\n",
    "st=child()\n",
    "        \n",
    "    "
   ]
  },
  {
   "cell_type": "code",
   "execution_count": null,
   "id": "b96dae39",
   "metadata": {},
   "outputs": [],
   "source": []
  }
 ],
 "metadata": {
  "kernelspec": {
   "display_name": "Python 3 (ipykernel)",
   "language": "python",
   "name": "python3"
  },
  "language_info": {
   "codemirror_mode": {
    "name": "ipython",
    "version": 3
   },
   "file_extension": ".py",
   "mimetype": "text/x-python",
   "name": "python",
   "nbconvert_exporter": "python",
   "pygments_lexer": "ipython3",
   "version": "3.10.2"
  }
 },
 "nbformat": 4,
 "nbformat_minor": 5
}
