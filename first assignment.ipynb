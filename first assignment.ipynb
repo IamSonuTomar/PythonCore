{
 "cells": [
  {
   "cell_type": "markdown",
   "id": "69fe31e7",
   "metadata": {},
   "source": [
    "# ASSIGNMENT 1"
   ]
  },
  {
   "cell_type": "code",
   "execution_count": null,
   "id": "79eb7ca3",
   "metadata": {},
   "outputs": [],
   "source": [
    "#QUESTION NO 1\n",
    "Keyword used to write a condition with using a condition is defined as if keyword.\n",
    "\n",
    "#question no 2\n",
    "syntax of simple if statement is, if condition :\n",
    "\n",
    "#question no 3\n",
    "Is there any limit of statements that can appear under an if block ?\n",
    "ans: NO there is no limit of statements to apppear under an if block but there has to be one statement.\n",
    "\n",
    "    "
   ]
  },
  {
   "cell_type": "code",
   "execution_count": 1,
   "id": "2dec88bf",
   "metadata": {},
   "outputs": [
    {
     "name": "stdout",
     "output_type": "stream",
     "text": [
      "type your age:12\n",
      "you can't vote\n"
     ]
    }
   ],
   "source": [
    "#QUESTION NO 4 PROGRAM FOR CONFIRMING WHETHER A PERSON CAN VOTE OR NOT:n=int(input(\"type your age:\"))\n",
    "n=int(input(\"type your age:\"))\n",
    "if n>=18:\n",
    "    print('you can vote')\n",
    "else:\n",
    "    print (\"you can't vote\")"
   ]
  },
  {
   "cell_type": "code",
   "execution_count": 2,
   "id": "5917d22c",
   "metadata": {},
   "outputs": [
    {
     "name": "stdout",
     "output_type": "stream",
     "text": [
      "Enter a no : 55\n",
      "odd\n"
     ]
    }
   ],
   "source": [
    "#question  5 to check whether a no is even or odd\n",
    "n=int(input(\"Enter a no : \"))\n",
    "if n%2==0:\n",
    "    print('even')\n",
    "else:\n",
    "    print('odd')"
   ]
  },
  {
   "cell_type": "code",
   "execution_count": 3,
   "id": "1711a0de",
   "metadata": {},
   "outputs": [
    {
     "name": "stdout",
     "output_type": "stream",
     "text": [
      "Enter a no : 89\n",
      "NO IT IS NOT DIVISIBLE BY 7\n"
     ]
    }
   ],
   "source": [
    "#question no 6 : to check whether a no is divisible by 7 or not?\n",
    "n=int(input(\"Enter a no : \"))\n",
    "if n%7==0:\n",
    "    print('YS ,IT IS DIVISIBLE BY 7')\n",
    "else:\n",
    "    print('NO IT IS NOT DIVISIBLE BY 7')"
   ]
  },
  {
   "cell_type": "code",
   "execution_count": 5,
   "id": "6ae09adf",
   "metadata": {},
   "outputs": [
    {
     "name": "stdout",
     "output_type": "stream",
     "text": [
      "Enter a no : 5572685\n",
      "HELLO \n"
     ]
    }
   ],
   "source": [
    "# QUESTION NO 7 TO CHECK ENTERD NO IS MULTIPLE OF 5 OR NOT?\n",
    "n=int(input(\"Enter a no : \"))\n",
    "if n%5==0:\n",
    "    print('HELLO ')\n",
    "else:\n",
    "    print('BYE')"
   ]
  },
  {
   "cell_type": "code",
   "execution_count": 2,
   "id": "3cce5aa9",
   "metadata": {},
   "outputs": [],
   "source": [
    "#question no 8"
   ]
  },
  {
   "cell_type": "code",
   "execution_count": 11,
   "id": "1657729c",
   "metadata": {},
   "outputs": [
    {
     "name": "stdout",
     "output_type": "stream",
     "text": [
      "enter your units:400\n",
      "2700\n"
     ]
    }
   ],
   "source": [
    "\n",
    "units=int(input(\"enter your units:\"))\n",
    "if units<=100:\n",
    "    bill=units*0\n",
    "    print(bill)\n",
    "elif units>100 and units<=200:\n",
    "    bill=(units-100)*5\n",
    "    print(bill)\n",
    "elif units>200 and units<=300:\n",
    "    bill=(units-200)*10+500\n",
    "    print(bill)\n",
    "else:\n",
    "    bill = 100*5+100*10+(units-300)*12\n",
    "    print(bill)"
   ]
  },
  {
   "cell_type": "code",
   "execution_count": null,
   "id": "08a5c248",
   "metadata": {},
   "outputs": [],
   "source": [
    "bill\n"
   ]
  },
  {
   "cell_type": "code",
   "execution_count": 8,
   "id": "701ddee3",
   "metadata": {
    "scrolled": true
   },
   "outputs": [
    {
     "name": "stdout",
     "output_type": "stream",
     "text": [
      "enter a no: 55\n",
      "5\n"
     ]
    }
   ],
   "source": [
    "#question no 9 : to display last digit of enterd no ? \n",
    "n = int (input(\"enter a no: \"))\n",
    "ans=n%10\n",
    "print(ans)"
   ]
  },
  {
   "cell_type": "code",
   "execution_count": 12,
   "id": "e8804570",
   "metadata": {},
   "outputs": [
    {
     "name": "stdout",
     "output_type": "stream",
     "text": [
      "enter a no: 889\n",
      "No., is divisible by 3\n"
     ]
    }
   ],
   "source": [
    "#question no 10 : to check whether the last digit of a no enterd by user is divisible by 3 or not?\n",
    "n=int(input(\"enter a no: \"))\n",
    "x=n%10\n",
    "if x%3==0:\n",
    "    print (\"No., is divisible by 3\")\n",
    "else:\n",
    "    print(\"no.,is not divisible by 3\")"
   ]
  },
  {
   "cell_type": "code",
   "execution_count": 13,
   "id": "c3a6d6c0",
   "metadata": {},
   "outputs": [
    {
     "name": "stdout",
     "output_type": "stream",
     "text": [
      "enter your percentage: 98.9\n",
      "you got ,A grade\n"
     ]
    }
   ],
   "source": [
    "#question no 11:\n",
    "n=float(input(\"enter your percentage: \"))\n",
    "if n>90:\n",
    "    print(\"you got ,A grade\")\n",
    "elif n<=90 and n>80:\n",
    "    print(\"you got ,B grade\")\n",
    "elif n<=80 and n>=60:\n",
    "    print(\"you got,C grade \")\n",
    "elif n<60:\n",
    "    print(\"you got D,grade\")"
   ]
  },
  {
   "cell_type": "code",
   "execution_count": 15,
   "id": "7df613f0",
   "metadata": {},
   "outputs": [
    {
     "name": "stdout",
     "output_type": "stream",
     "text": [
      "enter cost price: 50000\n",
      "5% tax\n"
     ]
    }
   ],
   "source": [
    "#question no 12\n",
    "n=int(input(\"enter cost price: \"))\n",
    "if n>100000:\n",
    "    print('15% tax')\n",
    "elif n<=100000 and n>50000:\n",
    "    print('10% tax')\n",
    "elif n<=50000:\n",
    "    print('5% tax')"
   ]
  },
  {
   "cell_type": "code",
   "execution_count": 1,
   "id": "9625606b",
   "metadata": {},
   "outputs": [
    {
     "name": "stdout",
     "output_type": "stream",
     "text": [
      "enter a year: 1700\n",
      "this year is not a leap year\n"
     ]
    }
   ],
   "source": [
    "#question no 13\n",
    "n=int(input('enter a year: '))\n",
    "if n%4==0 and n%100!=0 or n%400==0:\n",
    "    print(\"tis year is leap year\")\n",
    "else:\n",
    "    print('this year is not a leap year')"
   ]
  },
  {
   "cell_type": "code",
   "execution_count": 2,
   "id": "e4d8699e",
   "metadata": {},
   "outputs": [
    {
     "name": "stdout",
     "output_type": "stream",
     "text": [
      "please enter a no from 1-77\n",
      "saturday\n"
     ]
    }
   ],
   "source": [
    "#QUESTION NO 14\n",
    "n=int(input('please enter a no from 1-7'))\n",
    "if n==1:\n",
    "    print('sunday')\n",
    "elif n==2:\n",
    "    print('monday')\n",
    "elif n==3:\n",
    "    print('tuesday')\n",
    "elif n==4:\n",
    "    print('wednesday')\n",
    "elif n==5:\n",
    "    print('thrusday')\n",
    "elif n==6:\n",
    "    print('friday')\n",
    "elif n==7:\n",
    "    print('saturday')"
   ]
  },
  {
   "cell_type": "code",
   "execution_count": 4,
   "id": "2c910997",
   "metadata": {},
   "outputs": [
    {
     "name": "stdout",
     "output_type": "stream",
     "text": [
      "please enter a no from 1-12: 12\n",
      "december has 31 days\n"
     ]
    }
   ],
   "source": [
    "#question no 15\n",
    "n=int(input('please enter a no from 1-12: '))\n",
    "if n==1:\n",
    "    print('january has 31 days')\n",
    "elif n==2:\n",
    "    print('february has 28 days')\n",
    "elif n==3:\n",
    "    print('march has 31 days')\n",
    "elif n==4:\n",
    "    print('april has 30days')\n",
    "elif n==5:\n",
    "    print('may has 31 days')\n",
    "elif n==6:\n",
    "    print('june has 30 days')\n",
    "elif n==7:\n",
    "    print('july has 31 days')\n",
    "elif n==8:\n",
    "    print('august has 31 days')\n",
    "elif n==9:\n",
    "    print('september has 30days')\n",
    "elif n==10:\n",
    "    print('october has 31 days')\n",
    "elif n==11:\n",
    "    print('november has 30 days')\n",
    "elif n==12:\n",
    "    print('december has 31 days')\n",
    "else :\n",
    "    print ('please press  correct no ')\n"
   ]
  },
  {
   "cell_type": "code",
   "execution_count": null,
   "id": "099dad3f",
   "metadata": {},
   "outputs": [],
   "source": [
    "#question no16?\n",
    "#ans:statement is an instruction that python can exceute\n",
    "#question no 17?\n",
    "#ans: a>b and c>d"
   ]
  },
  {
   "cell_type": "code",
   "execution_count": 1,
   "id": "589113b5",
   "metadata": {},
   "outputs": [
    {
     "name": "stdout",
     "output_type": "stream",
     "text": [
      "please choose one of the city FROM DELHI ,AGRA ,JAIPUR 5\n",
      "choose one of the option listed above\n"
     ]
    }
   ],
   "source": [
    "#question no 17?\n",
    "n=input('please choose one of the city FROM DELHI ,AGRA ,JAIPUR ')\n",
    "if n== 'DELHI':\n",
    "    print('red fort')\n",
    "elif n=='AGRA' :\n",
    "    print('taz mahal')\n",
    "elif n== 'JAIPUR':\n",
    "    print('jal mahal')\n",
    "else :\n",
    "    print ('choose one of the option listed above')\n",
    "\n",
    " "
   ]
  },
  {
   "cell_type": "code",
   "execution_count": 2,
   "id": "578920ad",
   "metadata": {},
   "outputs": [
    {
     "name": "stdout",
     "output_type": "stream",
     "text": [
      "hello\n"
     ]
    }
   ],
   "source": [
    "#question no 18?\n",
    "a=9\n",
    "if a>5 and a<=10:\n",
    "    print('hello')\n",
    "else:\n",
    "    print('bie')"
   ]
  },
  {
   "cell_type": "code",
   "execution_count": 3,
   "id": "c86856a0",
   "metadata": {},
   "outputs": [
    {
     "name": "stdout",
     "output_type": "stream",
     "text": [
      "enter no: 556\n",
      " you entered a three digit no\n"
     ]
    }
   ],
   "source": [
    "#question no 19 ?\n",
    "n= int(input(\"enter no: \"))\n",
    "if n <=1000 and n>99:\n",
    "    print (' you entered a three digit no')\n",
    "else:\n",
    "    print('you entered a two digit no')"
   ]
  },
  {
   "cell_type": "code",
   "execution_count": 6,
   "id": "8657dd3d",
   "metadata": {
    "scrolled": true
   },
   "outputs": [
    {
     "name": "stdout",
     "output_type": "stream",
     "text": [
      "type your age:25\n",
      "you can vote\n"
     ]
    }
   ],
   "source": [
    "#question no 20\n",
    "n=int(input(\"type your age:\"))\n",
    "if n>=18:\n",
    "    print('you can vote')\n",
    "else:\n",
    "    print ('you can not vote')"
   ]
  },
  {
   "cell_type": "code",
   "execution_count": 7,
   "id": "38f585a6",
   "metadata": {},
   "outputs": [
    {
     "name": "stdout",
     "output_type": "stream",
     "text": [
      "enter your age: 66\n",
      "you belong to  senior citizen category \n"
     ]
    }
   ],
   "source": [
    "#question no 21\n",
    "n=int(input('enter your age: '))\n",
    "if n>=60:\n",
    "    print(\"you belong to  senior citizen category \")\n",
    "else:\n",
    "    print('you did not belong to senior citizen category')"
   ]
  },
  {
   "cell_type": "code",
   "execution_count": 9,
   "id": "1ea2aacf",
   "metadata": {
    "scrolled": true
   },
   "outputs": [
    {
     "name": "stdout",
     "output_type": "stream",
     "text": [
      "enter a no 1: 52\n",
      "enter a no 2 :52\n",
      "do not enter same values\n"
     ]
    }
   ],
   "source": [
    "# question no 22\n",
    "x=int(input('enter a no 1: '))\n",
    "y =int(input('enter a no 2 :'))\n",
    "if x>y:\n",
    "    print('y is the lowest no')\n",
    "elif y<x:\n",
    "    print('x is the lowest no')\n",
    "else:\n",
    "    print('do not enter same values')"
   ]
  },
  {
   "cell_type": "code",
   "execution_count": 1,
   "id": "6a90a9a3",
   "metadata": {},
   "outputs": [
    {
     "name": "stdout",
     "output_type": "stream",
     "text": [
      "type a no 1:64\n",
      "type a no 2:67\n",
      "y,is greater\n"
     ]
    }
   ],
   "source": [
    "x=float(input(\"type a no 1:\")) # question no 23 finding the largest no among 2 no entered\n",
    "y=float(input(\"type a no 2:\"))\n",
    "if x>y:\n",
    "    print(\"x,is graeater\")\n",
    "elif x<y:\n",
    "    print(\"y,is greater\")"
   ]
  },
  {
   "cell_type": "code",
   "execution_count": null,
   "id": "eb8a4b90",
   "metadata": {},
   "outputs": [],
   "source": [
    "#finding the largest no among three no entered by the user\n",
    "x=float(input(\"type a no 1:\"))\n",
    "y=float(input(\"type a no 2:\"))\n",
    "z=float(input(\"type a no 3:\"))\n",
    "if x>y and x>z : \n",
    "    print(\"x,is graeater\",sep='  ')\n",
    "elif x<y and z<y :\n",
    "    print(\"y,is greater\",sep='  ' )\n",
    "elif z>x and z>y:\n",
    "    print(\"z,is greater\",end=' ')"
   ]
  },
  {
   "cell_type": "code",
   "execution_count": null,
   "id": "0e55034c",
   "metadata": {},
   "outputs": [],
   "source": []
  }
 ],
 "metadata": {
  "kernelspec": {
   "display_name": "Python 3 (ipykernel)",
   "language": "python",
   "name": "python3"
  },
  "language_info": {
   "codemirror_mode": {
    "name": "ipython",
    "version": 3
   },
   "file_extension": ".py",
   "mimetype": "text/x-python",
   "name": "python",
   "nbconvert_exporter": "python",
   "pygments_lexer": "ipython3",
   "version": "3.10.2"
  }
 },
 "nbformat": 4,
 "nbformat_minor": 5
}
