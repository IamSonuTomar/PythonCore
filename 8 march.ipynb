{
 "cells": [
  {
   "cell_type": "code",
   "execution_count": 8,
   "id": "05c316ce",
   "metadata": {},
   "outputs": [],
   "source": [
    "s= \"Secularism in India mean the separation of religion state.\"\n"
   ]
  },
  {
   "cell_type": "code",
   "execution_count": 9,
   "id": "e4bbb177",
   "metadata": {},
   "outputs": [
    {
     "data": {
      "text/plain": [
       "'Secularism,in,India,mean,the,separation,of,religion,state.'"
      ]
     },
     "execution_count": 9,
     "metadata": {},
     "output_type": "execute_result"
    }
   ],
   "source": [
    "s.replace(' ',',')"
   ]
  },
  {
   "cell_type": "code",
   "execution_count": 10,
   "id": "d1a6c38f",
   "metadata": {},
   "outputs": [
    {
     "data": {
      "text/plain": [
       "['Secularism ', 'in India mean the separation of ', 'religion state.']"
      ]
     },
     "execution_count": 10,
     "metadata": {},
     "output_type": "execute_result"
    }
   ],
   "source": [
    "#s.split()\n",
    "s=\"Secularism ,in India mean the separation of ,religion state.\"\n",
    "s.split(\",\")"
   ]
  },
  {
   "cell_type": "code",
   "execution_count": 23,
   "id": "f4bb68fe",
   "metadata": {},
   "outputs": [],
   "source": [
    "s= \"Secularism in India mean the separation of religion state.\"\n"
   ]
  },
  {
   "cell_type": "code",
   "execution_count": 25,
   "id": "92fe3891",
   "metadata": {},
   "outputs": [],
   "source": [
    "ls=s.split (' ',-1)"
   ]
  },
  {
   "cell_type": "code",
   "execution_count": 26,
   "id": "4144b724",
   "metadata": {},
   "outputs": [
    {
     "data": {
      "text/plain": [
       "'Secularism,in India mean the separation of religion state.'"
      ]
     },
     "execution_count": 26,
     "metadata": {},
     "output_type": "execute_result"
    }
   ],
   "source": [
    "s.replace(\" \",\",\",1)"
   ]
  },
  {
   "cell_type": "code",
   "execution_count": null,
   "id": "f0a44ff0",
   "metadata": {},
   "outputs": [],
   "source": [
    "v= \"Secularism in India mean the separation of religion state.\""
   ]
  },
  {
   "cell_type": "code",
   "execution_count": 27,
   "id": "a4c58d75",
   "metadata": {},
   "outputs": [],
   "source": [
    "l=s.split(\" \",-1)"
   ]
  },
  {
   "cell_type": "code",
   "execution_count": 28,
   "id": "730955bf",
   "metadata": {},
   "outputs": [
    {
     "data": {
      "text/plain": [
       "['Secularism',\n",
       " 'in',\n",
       " 'India',\n",
       " 'mean',\n",
       " 'the',\n",
       " 'separation',\n",
       " 'of',\n",
       " 'religion',\n",
       " 'state.']"
      ]
     },
     "execution_count": 28,
     "metadata": {},
     "output_type": "execute_result"
    }
   ],
   "source": [
    "l"
   ]
  },
  {
   "cell_type": "code",
   "execution_count": 31,
   "id": "24c83ec4",
   "metadata": {},
   "outputs": [
    {
     "data": {
      "text/plain": [
       "'Secularism  in  India  mean  the  separation  of  religion  state.'"
      ]
     },
     "execution_count": 31,
     "metadata": {},
     "output_type": "execute_result"
    }
   ],
   "source": [
    "\"  \".join(l)"
   ]
  },
  {
   "cell_type": "code",
   "execution_count": 33,
   "id": "e5f68679",
   "metadata": {},
   "outputs": [
    {
     "data": {
      "text/plain": [
       "True"
      ]
     },
     "execution_count": 33,
     "metadata": {},
     "output_type": "execute_result"
    }
   ],
   "source": [
    "\"23222346332264536\".isdigit()"
   ]
  },
  {
   "cell_type": "code",
   "execution_count": 38,
   "id": "fd0973fb",
   "metadata": {},
   "outputs": [],
   "source": [
    "s= \"Secularism in India mean the separation of religion state Secularism in India mean the separation of religion state .\"\n",
    "\n"
   ]
  },
  {
   "cell_type": "code",
   "execution_count": 39,
   "id": "2a66ca0d",
   "metadata": {},
   "outputs": [
    {
     "data": {
      "text/plain": [
       "['Secularism',\n",
       " 'in',\n",
       " 'India',\n",
       " 'mean',\n",
       " 'the',\n",
       " 'separation',\n",
       " 'of',\n",
       " 'religion',\n",
       " 'state',\n",
       " 'Secularism',\n",
       " 'in',\n",
       " 'India',\n",
       " 'mean',\n",
       " 'the',\n",
       " 'separation',\n",
       " 'of',\n",
       " 'religion',\n",
       " 'state']"
      ]
     },
     "execution_count": 39,
     "metadata": {},
     "output_type": "execute_result"
    }
   ],
   "source": [
    "ls=[]\n",
    "t=''\n",
    "for char in s:\n",
    "    if char==' ':\n",
    "        ls.append(t)\n",
    "        t=''\n",
    "    else:\n",
    "        t=t+char\n",
    "ls"
   ]
  },
  {
   "cell_type": "code",
   "execution_count": 40,
   "id": "739c8196",
   "metadata": {},
   "outputs": [
    {
     "data": {
      "text/plain": [
       "['Secularism',\n",
       " 'in',\n",
       " 'India',\n",
       " 'mean',\n",
       " 'the',\n",
       " 'separation',\n",
       " 'of',\n",
       " 'religion',\n",
       " 'state',\n",
       " 'Secularism',\n",
       " 'in',\n",
       " 'India',\n",
       " 'mean',\n",
       " 'the',\n",
       " 'separation',\n",
       " 'of',\n",
       " 'religion',\n",
       " 'state',\n",
       " '.']"
      ]
     },
     "execution_count": 40,
     "metadata": {},
     "output_type": "execute_result"
    }
   ],
   "source": [
    "s= \"Secularism in India mean the separation of religion state Secularism in India mean the separation of religion state .\"\n",
    "l=s.split()\n",
    "l"
   ]
  },
  {
   "cell_type": "code",
   "execution_count": 43,
   "id": "2567ef25",
   "metadata": {},
   "outputs": [
    {
     "name": "stdout",
     "output_type": "stream",
     "text": [
      "Secularism ni India naem the noitarapes of noigiler state msiraluceS in aidnI mean eht separation fo religion etats . "
     ]
    }
   ],
   "source": [
    "for i ,d in enumerate(l):\n",
    "    if i%2==0:\n",
    "        print(d,end=\" \")\n",
    "    else:\n",
    "        print(d[::-1],end=\" \")\n"
   ]
  },
  {
   "cell_type": "code",
   "execution_count": 45,
   "id": "305148ba",
   "metadata": {},
   "outputs": [
    {
     "name": "stdout",
     "output_type": "stream",
     "text": [
      "Collecting pyttsx3\n",
      "  Downloading pyttsx3-2.90-py3-none-any.whl (39 kB)\n",
      "Collecting comtypes\n",
      "  Downloading comtypes-1.1.11-py2.py3-none-any.whl (167 kB)\n",
      "Requirement already satisfied: pywin32 in c:\\users\\sande\\appdata\\local\\programs\\python\\python310\\lib\\site-packages (from pyttsx3) (303)\n",
      "Collecting pypiwin32\n",
      "  Downloading pypiwin32-223-py3-none-any.whl (1.7 kB)\n",
      "Installing collected packages: pypiwin32, comtypes, pyttsx3\n",
      "Successfully installed comtypes-1.1.11 pypiwin32-223 pyttsx3-2.90\n"
     ]
    },
    {
     "name": "stderr",
     "output_type": "stream",
     "text": [
      "WARNING: You are using pip version 21.2.4; however, version 22.0.4 is available.\n",
      "You should consider upgrading via the 'C:\\Users\\sande\\AppData\\Local\\Programs\\Python\\Python310\\python.exe -m pip install --upgrade pip' command.\n"
     ]
    }
   ],
   "source": [
    "!pip install pyttsx3"
   ]
  },
  {
   "cell_type": "code",
   "execution_count": 2,
   "id": "3534614c",
   "metadata": {},
   "outputs": [],
   "source": [
    "import pyttsx3"
   ]
  },
  {
   "cell_type": "code",
   "execution_count": 6,
   "id": "1c9d2fb1",
   "metadata": {},
   "outputs": [
    {
     "name": "stdout",
     "output_type": "stream",
     "text": [
      "Microsoft Windows [Version 10.0.19044.1526]\n",
      "(c) Microsoft Corporation. All rights reserved.\n",
      "\n",
      "C:\\Users\\sande\\Desktop\\python notes>py --version\n",
      "Python 3.10.2\n",
      "\n",
      "C:\\Users\\sande\\Desktop\\python notes>"
     ]
    }
   ],
   "source": [
    "%%cmd\n",
    "py --version"
   ]
  },
  {
   "cell_type": "code",
   "execution_count": 7,
   "id": "328b4b35",
   "metadata": {},
   "outputs": [
    {
     "name": "stdout",
     "output_type": "stream",
     "text": [
      "Processing c:\\users\\sande\\desktop\\python notes\\pyaudio-0.2.11-cp310-cp310-win_amd64.whl\n"
     ]
    },
    {
     "name": "stderr",
     "output_type": "stream",
     "text": [
      "WARNING: Requirement 'PyAudio-0.2.11-cp310-cp310-win_amd64.whl' looks like a filename, but the file does not exist\n",
      "ERROR: Could not install packages due to an OSError: [Errno 2] No such file or directory: 'C:\\\\Users\\\\sande\\\\Desktop\\\\python notes\\\\PyAudio-0.2.11-cp310-cp310-win_amd64.whl'\n",
      "\n",
      "WARNING: You are using pip version 21.2.4; however, version 22.0.4 is available.\n",
      "You should consider upgrading via the 'C:\\Users\\sande\\AppData\\Local\\Programs\\Python\\Python310\\python.exe -m pip install --upgrade pip' command.\n"
     ]
    }
   ],
   "source": [
    "!pip install PyAudio-0.2.11-cp310-cp310-win_amd64.whl"
   ]
  },
  {
   "cell_type": "code",
   "execution_count": null,
   "id": "357ac473",
   "metadata": {},
   "outputs": [],
   "source": []
  }
 ],
 "metadata": {
  "kernelspec": {
   "display_name": "Python 3 (ipykernel)",
   "language": "python",
   "name": "python3"
  },
  "language_info": {
   "codemirror_mode": {
    "name": "ipython",
    "version": 3
   },
   "file_extension": ".py",
   "mimetype": "text/x-python",
   "name": "python",
   "nbconvert_exporter": "python",
   "pygments_lexer": "ipython3",
   "version": "3.10.2"
  }
 },
 "nbformat": 4,
 "nbformat_minor": 5
}
