{
 "cells": [
  {
   "cell_type": "code",
   "execution_count": 1,
   "metadata": {
    "_cell_guid": "b1076dfc-b9ad-4769-8c92-a6c4dae69d19",
    "_uuid": "8f2839f25d086af736a60e9eeb907d3b93b6e0e5",
    "execution": {
     "iopub.execute_input": "2022-06-08T08:37:57.868761Z",
     "iopub.status.busy": "2022-06-08T08:37:57.868203Z",
     "iopub.status.idle": "2022-06-08T08:37:57.905267Z",
     "shell.execute_reply": "2022-06-08T08:37:57.903884Z",
     "shell.execute_reply.started": "2022-06-08T08:37:57.868655Z"
    }
   },
   "outputs": [],
   "source": [
    "# This Python 3 environment comes with many helpful analytics libraries installed\n",
    "# It is defined by the kaggle/python Docker image: https://github.com/kaggle/docker-python\n",
    "# For example, here's several helpful packages to load\n",
    "\n",
    "import numpy as np # linear algebra\n",
    "import pandas as pd # data processing, CSV file I/O (e.g. pd.read_csv)\n",
    "\n",
    "# Input data files are available in the read-only \"../input/\" directory\n",
    "# For example, running this (by clicking run or pressing Shift+Enter) will list all files under the input directory\n",
    "\n",
    "import os\n",
    "for dirname, _, filenames in os.walk('/kaggle/input'):\n",
    "    for filename in filenames:\n",
    "        print(os.path.join(dirname, filename))\n",
    "\n",
    "# You can write up to 20GB to the current directory (/kaggle/working/) that gets preserved as output when you create a version using \"Save & Run All\" \n",
    "# You can also write temporary files to /kaggle/temp/, but they won't be saved outside of the current session"
   ]
  },
  {
   "cell_type": "code",
   "execution_count": 2,
   "metadata": {
    "execution": {
     "iopub.execute_input": "2022-06-08T08:37:57.908183Z",
     "iopub.status.busy": "2022-06-08T08:37:57.907696Z",
     "iopub.status.idle": "2022-06-08T08:37:57.994027Z",
     "shell.execute_reply": "2022-06-08T08:37:57.993162Z",
     "shell.execute_reply.started": "2022-06-08T08:37:57.908137Z"
    }
   },
   "outputs": [],
   "source": [
    "df1 = pd.read_csv(\"/kaggle/input/vehicle-dataset-from-cardekho/car data.csv\")\n",
    "df2 = pd.read_csv(\"/kaggle/input/vehicle-dataset-from-cardekho/CAR DETAILS FROM CAR DEKHO.csv\")\n",
    "df3 = pd.read_csv(\"/kaggle/input/vehicle-dataset-from-cardekho/Car details v3.csv\")"
   ]
  },
  {
   "cell_type": "code",
   "execution_count": 3,
   "metadata": {
    "execution": {
     "iopub.execute_input": "2022-06-08T08:37:57.995967Z",
     "iopub.status.busy": "2022-06-08T08:37:57.995382Z",
     "iopub.status.idle": "2022-06-08T08:37:58.001253Z",
     "shell.execute_reply": "2022-06-08T08:37:58.000500Z",
     "shell.execute_reply.started": "2022-06-08T08:37:57.995931Z"
    }
   },
   "outputs": [],
   "source": [
    "print(df1.shape)\n",
    "print(df2.shape)\n",
    "print(df3.shape)"
   ]
  },
  {
   "cell_type": "code",
   "execution_count": 4,
   "metadata": {
    "execution": {
     "iopub.execute_input": "2022-06-08T08:37:58.004154Z",
     "iopub.status.busy": "2022-06-08T08:37:58.003317Z",
     "iopub.status.idle": "2022-06-08T08:37:58.040033Z",
     "shell.execute_reply": "2022-06-08T08:37:58.038938Z",
     "shell.execute_reply.started": "2022-06-08T08:37:58.004114Z"
    }
   },
   "outputs": [],
   "source": [
    "df1.info()\n"
   ]
  },
  {
   "cell_type": "code",
   "execution_count": 5,
   "metadata": {
    "execution": {
     "iopub.execute_input": "2022-06-08T08:37:58.042771Z",
     "iopub.status.busy": "2022-06-08T08:37:58.041712Z",
     "iopub.status.idle": "2022-06-08T08:37:58.060736Z",
     "shell.execute_reply": "2022-06-08T08:37:58.059365Z",
     "shell.execute_reply.started": "2022-06-08T08:37:58.042721Z"
    }
   },
   "outputs": [],
   "source": [
    "df2.info()"
   ]
  },
  {
   "cell_type": "code",
   "execution_count": 6,
   "metadata": {
    "execution": {
     "iopub.execute_input": "2022-06-08T08:37:58.063659Z",
     "iopub.status.busy": "2022-06-08T08:37:58.062912Z",
     "iopub.status.idle": "2022-06-08T08:37:58.090616Z",
     "shell.execute_reply": "2022-06-08T08:37:58.089768Z",
     "shell.execute_reply.started": "2022-06-08T08:37:58.063601Z"
    }
   },
   "outputs": [],
   "source": [
    "df3.info()"
   ]
  },
  {
   "cell_type": "code",
   "execution_count": 7,
   "metadata": {
    "execution": {
     "iopub.execute_input": "2022-06-08T08:37:58.092830Z",
     "iopub.status.busy": "2022-06-08T08:37:58.092003Z",
     "iopub.status.idle": "2022-06-08T08:37:58.117052Z",
     "shell.execute_reply": "2022-06-08T08:37:58.115933Z",
     "shell.execute_reply.started": "2022-06-08T08:37:58.092789Z"
    }
   },
   "outputs": [],
   "source": [
    "df1.head(2)"
   ]
  },
  {
   "cell_type": "code",
   "execution_count": 8,
   "metadata": {
    "execution": {
     "iopub.execute_input": "2022-06-08T08:37:58.119378Z",
     "iopub.status.busy": "2022-06-08T08:37:58.118308Z",
     "iopub.status.idle": "2022-06-08T08:37:58.127743Z",
     "shell.execute_reply": "2022-06-08T08:37:58.126734Z",
     "shell.execute_reply.started": "2022-06-08T08:37:58.119340Z"
    }
   },
   "outputs": [],
   "source": [
    "df1[\"Seller_Type\"].value_counts()"
   ]
  },
  {
   "cell_type": "code",
   "execution_count": 9,
   "metadata": {
    "execution": {
     "iopub.execute_input": "2022-06-08T08:37:58.129320Z",
     "iopub.status.busy": "2022-06-08T08:37:58.128955Z",
     "iopub.status.idle": "2022-06-08T08:37:58.162399Z",
     "shell.execute_reply": "2022-06-08T08:37:58.161536Z",
     "shell.execute_reply.started": "2022-06-08T08:37:58.129290Z"
    }
   },
   "outputs": [],
   "source": [
    "df1[(df1[\"Seller_Type\"]==\"Dealer\")&(df1[\"Owner\"]==0)]"
   ]
  },
  {
   "cell_type": "code",
   "execution_count": 10,
   "metadata": {
    "execution": {
     "iopub.execute_input": "2022-06-08T08:37:58.165808Z",
     "iopub.status.busy": "2022-06-08T08:37:58.165203Z",
     "iopub.status.idle": "2022-06-08T08:37:58.179718Z",
     "shell.execute_reply": "2022-06-08T08:37:58.178559Z",
     "shell.execute_reply.started": "2022-06-08T08:37:58.165772Z"
    }
   },
   "outputs": [],
   "source": [
    "df2.head()"
   ]
  },
  {
   "cell_type": "code",
   "execution_count": 11,
   "metadata": {
    "execution": {
     "iopub.execute_input": "2022-06-08T08:37:58.181199Z",
     "iopub.status.busy": "2022-06-08T08:37:58.180865Z",
     "iopub.status.idle": "2022-06-08T08:37:58.206514Z",
     "shell.execute_reply": "2022-06-08T08:37:58.205744Z",
     "shell.execute_reply.started": "2022-06-08T08:37:58.181168Z"
    }
   },
   "outputs": [],
   "source": [
    "df2[(df2[\"seller_type\"]==\"Dealer\")&(df2[\"owner\"]==\"First Owner\")]"
   ]
  },
  {
   "cell_type": "code",
   "execution_count": 12,
   "metadata": {
    "execution": {
     "iopub.execute_input": "2022-06-08T08:37:58.208603Z",
     "iopub.status.busy": "2022-06-08T08:37:58.207748Z",
     "iopub.status.idle": "2022-06-08T08:37:58.215191Z",
     "shell.execute_reply": "2022-06-08T08:37:58.213605Z",
     "shell.execute_reply.started": "2022-06-08T08:37:58.208567Z"
    }
   },
   "outputs": [],
   "source": [
    "df1.rename(columns = {\"Seller_Type\":\"seller_type\",\"Car_Name\":\"name\",\"Year\":\"year\",\"Selling_Price\":\"selling_price\",\"Present_Price\":\"present_price\",\"Kms_Driven\":\"km_driven\",\"Fuel_Type\":\"fuel\",\"Transmission\":\"transmission\"},inplace =True)"
   ]
  },
  {
   "cell_type": "code",
   "execution_count": 13,
   "metadata": {
    "execution": {
     "iopub.execute_input": "2022-06-08T08:37:58.217728Z",
     "iopub.status.busy": "2022-06-08T08:37:58.217089Z",
     "iopub.status.idle": "2022-06-08T08:37:58.245323Z",
     "shell.execute_reply": "2022-06-08T08:37:58.244276Z",
     "shell.execute_reply.started": "2022-06-08T08:37:58.217676Z"
    }
   },
   "outputs": [],
   "source": [
    "df1"
   ]
  },
  {
   "cell_type": "code",
   "execution_count": 14,
   "metadata": {
    "execution": {
     "iopub.execute_input": "2022-06-08T08:37:58.247311Z",
     "iopub.status.busy": "2022-06-08T08:37:58.246950Z",
     "iopub.status.idle": "2022-06-08T08:37:58.254127Z",
     "shell.execute_reply": "2022-06-08T08:37:58.253333Z",
     "shell.execute_reply.started": "2022-06-08T08:37:58.247279Z"
    }
   },
   "outputs": [],
   "source": [
    "df1.drop(columns = [\"Owner\"],inplace = True)"
   ]
  },
  {
   "cell_type": "code",
   "execution_count": 15,
   "metadata": {
    "execution": {
     "iopub.execute_input": "2022-06-08T08:37:58.255756Z",
     "iopub.status.busy": "2022-06-08T08:37:58.255386Z",
     "iopub.status.idle": "2022-06-08T08:37:58.282738Z",
     "shell.execute_reply": "2022-06-08T08:37:58.281570Z",
     "shell.execute_reply.started": "2022-06-08T08:37:58.255726Z"
    }
   },
   "outputs": [],
   "source": [
    "df1"
   ]
  },
  {
   "cell_type": "code",
   "execution_count": 16,
   "metadata": {
    "execution": {
     "iopub.execute_input": "2022-06-08T08:37:58.284247Z",
     "iopub.status.busy": "2022-06-08T08:37:58.283936Z",
     "iopub.status.idle": "2022-06-08T08:37:58.296080Z",
     "shell.execute_reply": "2022-06-08T08:37:58.295149Z",
     "shell.execute_reply.started": "2022-06-08T08:37:58.284220Z"
    }
   },
   "outputs": [],
   "source": [
    "df1[(df1[\"transmission\"]==\"Manual\")&(df1[\"present_price\"]<3)][\"name\"]"
   ]
  },
  {
   "cell_type": "code",
   "execution_count": 17,
   "metadata": {
    "execution": {
     "iopub.execute_input": "2022-06-08T08:37:58.298697Z",
     "iopub.status.busy": "2022-06-08T08:37:58.297418Z",
     "iopub.status.idle": "2022-06-08T08:37:58.311599Z",
     "shell.execute_reply": "2022-06-08T08:37:58.310211Z",
     "shell.execute_reply.started": "2022-06-08T08:37:58.298653Z"
    }
   },
   "outputs": [],
   "source": [
    "df2[\"name\"].value_counts()[60:70]"
   ]
  },
  {
   "cell_type": "code",
   "execution_count": 18,
   "metadata": {
    "execution": {
     "iopub.execute_input": "2022-06-08T08:37:58.313905Z",
     "iopub.status.busy": "2022-06-08T08:37:58.313389Z",
     "iopub.status.idle": "2022-06-08T08:37:58.332055Z",
     "shell.execute_reply": "2022-06-08T08:37:58.330890Z",
     "shell.execute_reply.started": "2022-06-08T08:37:58.313869Z"
    }
   },
   "outputs": [],
   "source": [
    "df3.head(2)"
   ]
  },
  {
   "cell_type": "code",
   "execution_count": 19,
   "metadata": {
    "execution": {
     "iopub.execute_input": "2022-06-08T08:37:58.334682Z",
     "iopub.status.busy": "2022-06-08T08:37:58.334256Z",
     "iopub.status.idle": "2022-06-08T08:37:58.351364Z",
     "shell.execute_reply": "2022-06-08T08:37:58.350548Z",
     "shell.execute_reply.started": "2022-06-08T08:37:58.334647Z"
    }
   },
   "outputs": [],
   "source": [
    "df3.name.value_counts()[100:160]"
   ]
  },
  {
   "cell_type": "code",
   "execution_count": 20,
   "metadata": {
    "execution": {
     "iopub.execute_input": "2022-06-08T08:37:58.353024Z",
     "iopub.status.busy": "2022-06-08T08:37:58.352669Z",
     "iopub.status.idle": "2022-06-08T08:37:58.364795Z",
     "shell.execute_reply": "2022-06-08T08:37:58.363565Z",
     "shell.execute_reply.started": "2022-06-08T08:37:58.352991Z"
    }
   },
   "outputs": [],
   "source": [
    "df = pd.concat([df3,df2])"
   ]
  },
  {
   "cell_type": "code",
   "execution_count": 21,
   "metadata": {
    "execution": {
     "iopub.execute_input": "2022-06-08T08:37:58.367064Z",
     "iopub.status.busy": "2022-06-08T08:37:58.366082Z",
     "iopub.status.idle": "2022-06-08T08:37:58.392060Z",
     "shell.execute_reply": "2022-06-08T08:37:58.391073Z",
     "shell.execute_reply.started": "2022-06-08T08:37:58.367023Z"
    }
   },
   "outputs": [],
   "source": [
    "df"
   ]
  },
  {
   "cell_type": "code",
   "execution_count": 22,
   "metadata": {
    "execution": {
     "iopub.execute_input": "2022-06-08T08:37:58.394312Z",
     "iopub.status.busy": "2022-06-08T08:37:58.393666Z",
     "iopub.status.idle": "2022-06-08T08:37:58.417064Z",
     "shell.execute_reply": "2022-06-08T08:37:58.416169Z",
     "shell.execute_reply.started": "2022-06-08T08:37:58.394266Z"
    }
   },
   "outputs": [],
   "source": [
    "(df.isna().sum()/df.shape[0])*100"
   ]
  },
  {
   "cell_type": "code",
   "execution_count": 23,
   "metadata": {
    "execution": {
     "iopub.execute_input": "2022-06-08T08:37:58.418743Z",
     "iopub.status.busy": "2022-06-08T08:37:58.418382Z",
     "iopub.status.idle": "2022-06-08T08:37:58.431106Z",
     "shell.execute_reply": "2022-06-08T08:37:58.430394Z",
     "shell.execute_reply.started": "2022-06-08T08:37:58.418712Z"
    }
   },
   "outputs": [],
   "source": [
    "df[\"name\"].value_counts()"
   ]
  },
  {
   "cell_type": "code",
   "execution_count": 24,
   "metadata": {
    "execution": {
     "iopub.execute_input": "2022-06-08T08:37:58.432970Z",
     "iopub.status.busy": "2022-06-08T08:37:58.432286Z",
     "iopub.status.idle": "2022-06-08T08:37:58.463245Z",
     "shell.execute_reply": "2022-06-08T08:37:58.462544Z",
     "shell.execute_reply.started": "2022-06-08T08:37:58.432941Z"
    }
   },
   "outputs": [],
   "source": [
    "df[df[\"mileage\"].isna()]"
   ]
  },
  {
   "cell_type": "code",
   "execution_count": 25,
   "metadata": {
    "execution": {
     "iopub.execute_input": "2022-06-08T08:37:58.466770Z",
     "iopub.status.busy": "2022-06-08T08:37:58.466370Z",
     "iopub.status.idle": "2022-06-08T08:37:58.491114Z",
     "shell.execute_reply": "2022-06-08T08:37:58.489859Z",
     "shell.execute_reply.started": "2022-06-08T08:37:58.466739Z"
    }
   },
   "outputs": [],
   "source": [
    "df3"
   ]
  },
  {
   "cell_type": "code",
   "execution_count": 26,
   "metadata": {
    "execution": {
     "iopub.execute_input": "2022-06-08T08:37:58.493323Z",
     "iopub.status.busy": "2022-06-08T08:37:58.492806Z",
     "iopub.status.idle": "2022-06-08T08:37:58.510209Z",
     "shell.execute_reply": "2022-06-08T08:37:58.509536Z",
     "shell.execute_reply.started": "2022-06-08T08:37:58.493291Z"
    }
   },
   "outputs": [],
   "source": [
    "df3.isna().sum()"
   ]
  },
  {
   "cell_type": "code",
   "execution_count": 27,
   "metadata": {
    "execution": {
     "iopub.execute_input": "2022-06-08T08:37:58.512165Z",
     "iopub.status.busy": "2022-06-08T08:37:58.511174Z",
     "iopub.status.idle": "2022-06-08T08:37:58.526670Z",
     "shell.execute_reply": "2022-06-08T08:37:58.525408Z",
     "shell.execute_reply.started": "2022-06-08T08:37:58.512133Z"
    }
   },
   "outputs": [],
   "source": [
    "x = np.where(df3.isna()==True)"
   ]
  },
  {
   "cell_type": "code",
   "execution_count": 28,
   "metadata": {
    "execution": {
     "iopub.execute_input": "2022-06-08T08:37:58.529195Z",
     "iopub.status.busy": "2022-06-08T08:37:58.528023Z",
     "iopub.status.idle": "2022-06-08T08:37:58.540789Z",
     "shell.execute_reply": "2022-06-08T08:37:58.539588Z",
     "shell.execute_reply.started": "2022-06-08T08:37:58.529128Z"
    }
   },
   "outputs": [],
   "source": [
    "x[0].shape"
   ]
  },
  {
   "cell_type": "code",
   "execution_count": 29,
   "metadata": {
    "execution": {
     "iopub.execute_input": "2022-06-08T08:37:58.542490Z",
     "iopub.status.busy": "2022-06-08T08:37:58.542009Z",
     "iopub.status.idle": "2022-06-08T08:37:58.556083Z",
     "shell.execute_reply": "2022-06-08T08:37:58.555299Z",
     "shell.execute_reply.started": "2022-06-08T08:37:58.542445Z"
    }
   },
   "outputs": [],
   "source": [
    "x[1].shape"
   ]
  },
  {
   "cell_type": "code",
   "execution_count": 30,
   "metadata": {
    "execution": {
     "iopub.execute_input": "2022-06-08T08:37:58.557721Z",
     "iopub.status.busy": "2022-06-08T08:37:58.557203Z",
     "iopub.status.idle": "2022-06-08T08:37:58.589434Z",
     "shell.execute_reply": "2022-06-08T08:37:58.588108Z",
     "shell.execute_reply.started": "2022-06-08T08:37:58.557687Z"
    }
   },
   "outputs": [],
   "source": [
    "df3.iloc[x[0]]"
   ]
  },
  {
   "cell_type": "code",
   "execution_count": 31,
   "metadata": {
    "execution": {
     "iopub.execute_input": "2022-06-08T08:37:58.592729Z",
     "iopub.status.busy": "2022-06-08T08:37:58.591437Z",
     "iopub.status.idle": "2022-06-08T08:37:58.612658Z",
     "shell.execute_reply": "2022-06-08T08:37:58.611714Z",
     "shell.execute_reply.started": "2022-06-08T08:37:58.592662Z"
    }
   },
   "outputs": [],
   "source": [
    "df3.head(2)"
   ]
  },
  {
   "cell_type": "code",
   "execution_count": 32,
   "metadata": {
    "execution": {
     "iopub.execute_input": "2022-06-08T08:37:58.614289Z",
     "iopub.status.busy": "2022-06-08T08:37:58.613956Z",
     "iopub.status.idle": "2022-06-08T08:37:58.622410Z",
     "shell.execute_reply": "2022-06-08T08:37:58.621430Z",
     "shell.execute_reply.started": "2022-06-08T08:37:58.614260Z"
    }
   },
   "outputs": [],
   "source": [
    "df3.mileage"
   ]
  },
  {
   "cell_type": "code",
   "execution_count": 33,
   "metadata": {
    "execution": {
     "iopub.execute_input": "2022-06-08T08:37:58.624306Z",
     "iopub.status.busy": "2022-06-08T08:37:58.623919Z",
     "iopub.status.idle": "2022-06-08T08:37:58.640988Z",
     "shell.execute_reply": "2022-06-08T08:37:58.639782Z",
     "shell.execute_reply.started": "2022-06-08T08:37:58.624272Z"
    }
   },
   "outputs": [],
   "source": [
    "df3.mileage.mode()"
   ]
  },
  {
   "cell_type": "code",
   "execution_count": 34,
   "metadata": {
    "execution": {
     "iopub.execute_input": "2022-06-08T08:37:58.643303Z",
     "iopub.status.busy": "2022-06-08T08:37:58.642542Z",
     "iopub.status.idle": "2022-06-08T08:37:58.671871Z",
     "shell.execute_reply": "2022-06-08T08:37:58.671015Z",
     "shell.execute_reply.started": "2022-06-08T08:37:58.643263Z"
    }
   },
   "outputs": [],
   "source": [
    "df3.iloc[np.where(df3[\"mileage\"].isna()==False)]"
   ]
  },
  {
   "cell_type": "code",
   "execution_count": 35,
   "metadata": {
    "execution": {
     "iopub.execute_input": "2022-06-08T08:37:58.673534Z",
     "iopub.status.busy": "2022-06-08T08:37:58.672829Z",
     "iopub.status.idle": "2022-06-08T08:37:58.706386Z",
     "shell.execute_reply": "2022-06-08T08:37:58.705578Z",
     "shell.execute_reply.started": "2022-06-08T08:37:58.673494Z"
    }
   },
   "outputs": [],
   "source": [
    "df3[[\"mileage\"]]= df3[[\"mileage\"]].replace(to_replace = r'([a-z/]+|[A-Z]+)',value = \"\",regex = True)"
   ]
  },
  {
   "cell_type": "code",
   "execution_count": 36,
   "metadata": {
    "execution": {
     "iopub.execute_input": "2022-06-08T08:37:58.709788Z",
     "iopub.status.busy": "2022-06-08T08:37:58.708630Z",
     "iopub.status.idle": "2022-06-08T08:37:58.720247Z",
     "shell.execute_reply": "2022-06-08T08:37:58.718575Z",
     "shell.execute_reply.started": "2022-06-08T08:37:58.709730Z"
    }
   },
   "outputs": [],
   "source": [
    "df3[\"mileage\"]"
   ]
  },
  {
   "cell_type": "code",
   "execution_count": 37,
   "metadata": {
    "execution": {
     "iopub.execute_input": "2022-06-08T08:37:58.722331Z",
     "iopub.status.busy": "2022-06-08T08:37:58.721803Z",
     "iopub.status.idle": "2022-06-08T08:37:58.739111Z",
     "shell.execute_reply": "2022-06-08T08:37:58.737853Z",
     "shell.execute_reply.started": "2022-06-08T08:37:58.722297Z"
    }
   },
   "outputs": [],
   "source": [
    "df3[\"mileage\"] = df3[\"mileage\"].astype(\"float64\")"
   ]
  },
  {
   "cell_type": "code",
   "execution_count": 38,
   "metadata": {
    "execution": {
     "iopub.execute_input": "2022-06-08T08:37:58.741446Z",
     "iopub.status.busy": "2022-06-08T08:37:58.740799Z",
     "iopub.status.idle": "2022-06-08T08:37:58.757345Z",
     "shell.execute_reply": "2022-06-08T08:37:58.756286Z",
     "shell.execute_reply.started": "2022-06-08T08:37:58.741401Z"
    }
   },
   "outputs": [],
   "source": [
    "df3.dtypes"
   ]
  },
  {
   "cell_type": "code",
   "execution_count": 39,
   "metadata": {
    "execution": {
     "iopub.execute_input": "2022-06-08T08:37:58.759967Z",
     "iopub.status.busy": "2022-06-08T08:37:58.759263Z",
     "iopub.status.idle": "2022-06-08T08:37:58.771363Z",
     "shell.execute_reply": "2022-06-08T08:37:58.770113Z",
     "shell.execute_reply.started": "2022-06-08T08:37:58.759922Z"
    }
   },
   "outputs": [],
   "source": [
    "import matplotlib.pyplot as plt "
   ]
  },
  {
   "cell_type": "code",
   "execution_count": 40,
   "metadata": {
    "execution": {
     "iopub.execute_input": "2022-06-08T08:37:58.773084Z",
     "iopub.status.busy": "2022-06-08T08:37:58.772609Z",
     "iopub.status.idle": "2022-06-08T08:37:58.794212Z",
     "shell.execute_reply": "2022-06-08T08:37:58.792794Z",
     "shell.execute_reply.started": "2022-06-08T08:37:58.773053Z"
    }
   },
   "outputs": [],
   "source": [
    "df3[\"mileage\"]"
   ]
  },
  {
   "cell_type": "code",
   "execution_count": 41,
   "metadata": {
    "execution": {
     "iopub.execute_input": "2022-06-08T08:43:07.187269Z",
     "iopub.status.busy": "2022-06-08T08:43:07.186861Z",
     "iopub.status.idle": "2022-06-08T08:43:07.202302Z",
     "shell.execute_reply": "2022-06-08T08:43:07.201371Z",
     "shell.execute_reply.started": "2022-06-08T08:43:07.187234Z"
    }
   },
   "outputs": [],
   "source": [
    "df3[\"engine\"]  = df3[\"engine\"].str.replace(\"CC\",\"\")"
   ]
  },
  {
   "cell_type": "code",
   "execution_count": 42,
   "metadata": {
    "execution": {
     "iopub.execute_input": "2022-06-08T08:43:14.125191Z",
     "iopub.status.busy": "2022-06-08T08:43:14.124685Z",
     "iopub.status.idle": "2022-06-08T08:43:14.134228Z",
     "shell.execute_reply": "2022-06-08T08:43:14.133278Z",
     "shell.execute_reply.started": "2022-06-08T08:43:14.125153Z"
    }
   },
   "outputs": [],
   "source": [
    "df3[\"engine\"]"
   ]
  },
  {
   "cell_type": "code",
   "execution_count": 46,
   "metadata": {
    "execution": {
     "iopub.execute_input": "2022-06-08T08:47:08.567163Z",
     "iopub.status.busy": "2022-06-08T08:47:08.566767Z",
     "iopub.status.idle": "2022-06-08T08:47:08.582080Z",
     "shell.execute_reply": "2022-06-08T08:47:08.580677Z",
     "shell.execute_reply.started": "2022-06-08T08:47:08.567131Z"
    }
   },
   "outputs": [],
   "source": [
    "df3[\"max_power\"] = df3[\"max_power\"].str.replace(\"bhp\",\"\")"
   ]
  },
  {
   "cell_type": "code",
   "execution_count": 47,
   "metadata": {
    "execution": {
     "iopub.execute_input": "2022-06-08T08:47:15.271846Z",
     "iopub.status.busy": "2022-06-08T08:47:15.271357Z",
     "iopub.status.idle": "2022-06-08T08:47:15.281906Z",
     "shell.execute_reply": "2022-06-08T08:47:15.280956Z",
     "shell.execute_reply.started": "2022-06-08T08:47:15.271813Z"
    }
   },
   "outputs": [],
   "source": [
    "df3[\"max_power\"]"
   ]
  },
  {
   "cell_type": "code",
   "execution_count": 48,
   "metadata": {
    "execution": {
     "iopub.execute_input": "2022-06-08T08:49:37.169399Z",
     "iopub.status.busy": "2022-06-08T08:49:37.168348Z",
     "iopub.status.idle": "2022-06-08T08:49:37.179620Z",
     "shell.execute_reply": "2022-06-08T08:49:37.178898Z",
     "shell.execute_reply.started": "2022-06-08T08:49:37.169361Z"
    }
   },
   "outputs": [],
   "source": [
    "df3[\"torque\"].unique()"
   ]
  },
  {
   "cell_type": "code",
   "execution_count": 49,
   "metadata": {
    "execution": {
     "iopub.execute_input": "2022-06-08T08:53:14.751703Z",
     "iopub.status.busy": "2022-06-08T08:53:14.751180Z",
     "iopub.status.idle": "2022-06-08T08:53:14.785849Z",
     "shell.execute_reply": "2022-06-08T08:53:14.784777Z",
     "shell.execute_reply.started": "2022-06-08T08:53:14.751662Z"
    }
   },
   "outputs": [],
   "source": [
    "df3[\"torque\"] = df3[\"torque\"].str.replace(\"Nm@ \",\"\").str.replace(\",\",\"\").str.replace(\"rpm\",\"\")"
   ]
  },
  {
   "cell_type": "code",
   "execution_count": 69,
   "metadata": {
    "execution": {
     "iopub.execute_input": "2022-06-08T09:11:25.629527Z",
     "iopub.status.busy": "2022-06-08T09:11:25.628306Z",
     "iopub.status.idle": "2022-06-08T09:11:25.640768Z",
     "shell.execute_reply": "2022-06-08T09:11:25.639684Z",
     "shell.execute_reply.started": "2022-06-08T09:11:25.629441Z"
    }
   },
   "outputs": [],
   "source": [
    "df3[\"torque\"] = df3[\"torque\"].str[0:3]\n"
   ]
  },
  {
   "cell_type": "code",
   "execution_count": 73,
   "metadata": {
    "execution": {
     "iopub.execute_input": "2022-06-08T09:15:48.709764Z",
     "iopub.status.busy": "2022-06-08T09:15:48.709174Z",
     "iopub.status.idle": "2022-06-08T09:15:48.715853Z",
     "shell.execute_reply": "2022-06-08T09:15:48.714327Z",
     "shell.execute_reply.started": "2022-06-08T09:15:48.709722Z"
    }
   },
   "outputs": [],
   "source": [
    "# for i in df3[\"torque\"].str[0:3]:\n",
    "#     if i!=np.nan:\n",
    "#         print(i)"
   ]
  },
  {
   "cell_type": "code",
   "execution_count": 70,
   "metadata": {
    "execution": {
     "iopub.execute_input": "2022-06-08T09:11:30.852997Z",
     "iopub.status.busy": "2022-06-08T09:11:30.852531Z",
     "iopub.status.idle": "2022-06-08T09:11:30.884917Z",
     "shell.execute_reply": "2022-06-08T09:11:30.883252Z",
     "shell.execute_reply.started": "2022-06-08T09:11:30.852964Z"
    }
   },
   "outputs": [],
   "source": [
    "df3[\"torque\"] = df3[\"torque\"].str.replace(\"@\",\"\").str.replace(\".\",\"\").str.replace(\"N\",\"\").str.replace(\"n\",\"\")"
   ]
  },
  {
   "cell_type": "code",
   "execution_count": 74,
   "metadata": {
    "execution": {
     "iopub.execute_input": "2022-06-08T09:18:08.428938Z",
     "iopub.status.busy": "2022-06-08T09:18:08.428414Z",
     "iopub.status.idle": "2022-06-08T09:18:08.440329Z",
     "shell.execute_reply": "2022-06-08T09:18:08.439092Z",
     "shell.execute_reply.started": "2022-06-08T09:18:08.428901Z"
    }
   },
   "outputs": [],
   "source": [
    "df3[\"torque\"]"
   ]
  },
  {
   "cell_type": "code",
   "execution_count": 75,
   "metadata": {
    "execution": {
     "iopub.execute_input": "2022-06-08T09:20:50.367313Z",
     "iopub.status.busy": "2022-06-08T09:20:50.366810Z",
     "iopub.status.idle": "2022-06-08T09:20:50.392549Z",
     "shell.execute_reply": "2022-06-08T09:20:50.390722Z",
     "shell.execute_reply.started": "2022-06-08T09:20:50.367280Z"
    }
   },
   "outputs": [],
   "source": [
    "s = \"23.45\"\n",
    "int(s)"
   ]
  },
  {
   "cell_type": "code",
   "execution_count": 79,
   "metadata": {
    "execution": {
     "iopub.execute_input": "2022-06-08T09:25:01.117316Z",
     "iopub.status.busy": "2022-06-08T09:25:01.116657Z",
     "iopub.status.idle": "2022-06-08T09:25:01.127908Z",
     "shell.execute_reply": "2022-06-08T09:25:01.126512Z",
     "shell.execute_reply.started": "2022-06-08T09:25:01.117271Z"
    }
   },
   "outputs": [],
   "source": [
    "df3[\"torque\"].unique()"
   ]
  },
  {
   "cell_type": "code",
   "execution_count": 80,
   "metadata": {
    "execution": {
     "iopub.execute_input": "2022-06-08T09:26:09.402986Z",
     "iopub.status.busy": "2022-06-08T09:26:09.402566Z",
     "iopub.status.idle": "2022-06-08T09:26:09.409238Z",
     "shell.execute_reply": "2022-06-08T09:26:09.408131Z",
     "shell.execute_reply.started": "2022-06-08T09:26:09.402950Z"
    }
   },
   "outputs": [],
   "source": [
    "df3[\"mileage\"] = pd.to_numeric(df3[\"mileage\"])"
   ]
  },
  {
   "cell_type": "code",
   "execution_count": 85,
   "metadata": {
    "execution": {
     "iopub.execute_input": "2022-06-08T09:28:32.662392Z",
     "iopub.status.busy": "2022-06-08T09:28:32.661482Z",
     "iopub.status.idle": "2022-06-08T09:28:32.673748Z",
     "shell.execute_reply": "2022-06-08T09:28:32.672877Z",
     "shell.execute_reply.started": "2022-06-08T09:28:32.662351Z"
    }
   },
   "outputs": [],
   "source": [
    "df3[\"max_power\"] = df3[\"max_power\"].str.replace(\" \",\"\")"
   ]
  },
  {
   "cell_type": "code",
   "execution_count": 88,
   "metadata": {
    "execution": {
     "iopub.execute_input": "2022-06-08T09:29:25.189636Z",
     "iopub.status.busy": "2022-06-08T09:29:25.188785Z",
     "iopub.status.idle": "2022-06-08T09:29:25.197934Z",
     "shell.execute_reply": "2022-06-08T09:29:25.196382Z",
     "shell.execute_reply.started": "2022-06-08T09:29:25.189586Z"
    }
   },
   "outputs": [],
   "source": [
    "df3[\"max_power\"][4933] = np.nan"
   ]
  },
  {
   "cell_type": "code",
   "execution_count": 90,
   "metadata": {
    "execution": {
     "iopub.execute_input": "2022-06-08T09:31:24.618603Z",
     "iopub.status.busy": "2022-06-08T09:31:24.617741Z",
     "iopub.status.idle": "2022-06-08T09:31:24.649154Z",
     "shell.execute_reply": "2022-06-08T09:31:24.647692Z",
     "shell.execute_reply.started": "2022-06-08T09:31:24.618559Z"
    }
   },
   "outputs": [],
   "source": [
    "df3[\"max_power\"] = pd.to_numeric(df3[\"max_power\"])\n",
    "df3[\"torque\"] = pd.to_numeric(df3[\"torque\"])\n",
    "df3[\"engine\"] = pd.to_numeric(df3[\"engine\"])"
   ]
  },
  {
   "cell_type": "code",
   "execution_count": 91,
   "metadata": {
    "execution": {
     "iopub.execute_input": "2022-06-08T09:33:36.313014Z",
     "iopub.status.busy": "2022-06-08T09:33:36.312443Z",
     "iopub.status.idle": "2022-06-08T09:33:36.319893Z",
     "shell.execute_reply": "2022-06-08T09:33:36.318268Z",
     "shell.execute_reply.started": "2022-06-08T09:33:36.312973Z"
    }
   },
   "outputs": [],
   "source": [
    "import matplotlib.pyplot as plt "
   ]
  },
  {
   "cell_type": "code",
   "execution_count": 92,
   "metadata": {
    "execution": {
     "iopub.execute_input": "2022-06-08T09:34:57.557060Z",
     "iopub.status.busy": "2022-06-08T09:34:57.556593Z",
     "iopub.status.idle": "2022-06-08T09:34:57.808061Z",
     "shell.execute_reply": "2022-06-08T09:34:57.807022Z",
     "shell.execute_reply.started": "2022-06-08T09:34:57.557024Z"
    }
   },
   "outputs": [],
   "source": [
    "for i in [\"max_power\",\"mileage\",\"torque\",\"engine\"]:\n",
    "    plt.boxplot(df3[i])\n",
    "    "
   ]
  },
  {
   "cell_type": "code",
   "execution_count": 96,
   "metadata": {
    "execution": {
     "iopub.execute_input": "2022-06-08T09:36:11.294372Z",
     "iopub.status.busy": "2022-06-08T09:36:11.293970Z",
     "iopub.status.idle": "2022-06-08T09:36:11.303986Z",
     "shell.execute_reply": "2022-06-08T09:36:11.302929Z",
     "shell.execute_reply.started": "2022-06-08T09:36:11.294342Z"
    }
   },
   "outputs": [],
   "source": [
    "df3[\"mileage\"]"
   ]
  },
  {
   "cell_type": "code",
   "execution_count": 101,
   "metadata": {
    "execution": {
     "iopub.execute_input": "2022-06-08T09:37:43.891578Z",
     "iopub.status.busy": "2022-06-08T09:37:43.890675Z",
     "iopub.status.idle": "2022-06-08T09:37:43.933049Z",
     "shell.execute_reply": "2022-06-08T09:37:43.932385Z",
     "shell.execute_reply.started": "2022-06-08T09:37:43.891540Z"
    }
   },
   "outputs": [],
   "source": [
    "df3.describe().T"
   ]
  },
  {
   "cell_type": "code",
   "execution_count": 102,
   "metadata": {
    "execution": {
     "iopub.execute_input": "2022-06-08T09:41:12.988709Z",
     "iopub.status.busy": "2022-06-08T09:41:12.987386Z",
     "iopub.status.idle": "2022-06-08T09:41:12.999501Z",
     "shell.execute_reply": "2022-06-08T09:41:12.998112Z",
     "shell.execute_reply.started": "2022-06-08T09:41:12.988668Z"
    }
   },
   "outputs": [],
   "source": [
    "df3[\"mileage\"].fillna(df3[\"mileage\"].median(),inplace = True)\n",
    "df3[\"max_power\"].fillna(df3[\"max_power\"].median(),inplace = True)\n",
    "df3[\"engine\"].fillna(df3[\"engine\"].median(),inplace = True)\n",
    "df3[\"torque\"].fillna(df3[\"torque\"].median(),inplace = True)"
   ]
  },
  {
   "cell_type": "code",
   "execution_count": 104,
   "metadata": {
    "execution": {
     "iopub.execute_input": "2022-06-08T09:42:08.089790Z",
     "iopub.status.busy": "2022-06-08T09:42:08.089131Z",
     "iopub.status.idle": "2022-06-08T09:42:08.098043Z",
     "shell.execute_reply": "2022-06-08T09:42:08.096978Z",
     "shell.execute_reply.started": "2022-06-08T09:42:08.089748Z"
    }
   },
   "outputs": [],
   "source": [
    "df3[\"seats\"].fillna(df3[\"seats\"].median(),inplace = True)"
   ]
  },
  {
   "cell_type": "code",
   "execution_count": 105,
   "metadata": {
    "execution": {
     "iopub.execute_input": "2022-06-08T09:42:19.427793Z",
     "iopub.status.busy": "2022-06-08T09:42:19.426807Z",
     "iopub.status.idle": "2022-06-08T09:42:19.442492Z",
     "shell.execute_reply": "2022-06-08T09:42:19.441669Z",
     "shell.execute_reply.started": "2022-06-08T09:42:19.427753Z"
    }
   },
   "outputs": [],
   "source": [
    "df3.isna().sum()"
   ]
  }
 ],
 "metadata": {
  "kernelspec": {
   "display_name": "Python 3 (ipykernel)",
   "language": "python",
   "name": "python3"
  },
  "language_info": {
   "codemirror_mode": {
    "name": "ipython",
    "version": 3
   },
   "file_extension": ".py",
   "mimetype": "text/x-python",
   "name": "python",
   "nbconvert_exporter": "python",
   "pygments_lexer": "ipython3",
   "version": "3.10.2"
  }
 },
 "nbformat": 4,
 "nbformat_minor": 4
}
