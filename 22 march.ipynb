{
 "cells": [
  {
   "cell_type": "code",
   "execution_count": 1,
   "id": "98ae059a",
   "metadata": {},
   "outputs": [],
   "source": [
    "#decorator {#who decorate another function }\n",
    "#ex= download function on websites check you are login or not\n",
    "#decorator is a function that takes another function as a argument"
   ]
  },
  {
   "cell_type": "code",
   "execution_count": null,
   "id": "4505ff3b",
   "metadata": {},
   "outputs": [],
   "source": []
  }
 ],
 "metadata": {
  "kernelspec": {
   "display_name": "Python 3 (ipykernel)",
   "language": "python",
   "name": "python3"
  },
  "language_info": {
   "codemirror_mode": {
    "name": "ipython",
    "version": 3
   },
   "file_extension": ".py",
   "mimetype": "text/x-python",
   "name": "python",
   "nbconvert_exporter": "python",
   "pygments_lexer": "ipython3",
   "version": "3.10.2"
  }
 },
 "nbformat": 4,
 "nbformat_minor": 5
}
