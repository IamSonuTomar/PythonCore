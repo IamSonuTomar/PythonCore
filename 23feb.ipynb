{
 "cells": [
  {
   "cell_type": "markdown",
   "id": "1b53317d",
   "metadata": {},
   "source": [
    "## 23 feb"
   ]
  },
  {
   "cell_type": "code",
   "execution_count": 1,
   "id": "dcb5c656",
   "metadata": {},
   "outputs": [
    {
     "name": "stdout",
     "output_type": "stream",
     "text": [
      "20,30,100,end\n"
     ]
    }
   ],
   "source": [
    "a=20\n",
    "b=30\n",
    "print(a,b,100,\"end\",sep=',')"
   ]
  },
  {
   "cell_type": "code",
   "execution_count": 2,
   "id": "9b7162ea",
   "metadata": {},
   "outputs": [
    {
     "name": "stdout",
     "output_type": "stream",
     "text": [
      "10 20 30\n",
      "50 60 66\n"
     ]
    }
   ],
   "source": [
    "print(10,20,30)\n",
    "print(50,60,66)"
   ]
  },
  {
   "cell_type": "code",
   "execution_count": 7,
   "id": "f2d14c15",
   "metadata": {},
   "outputs": [
    {
     "name": "stdout",
     "output_type": "stream",
     "text": [
      "10 20 30\n"
     ]
    }
   ],
   "source": [
    "print(10,20,30,sep=' ')  #end='\\n'"
   ]
  },
  {
   "cell_type": "code",
   "execution_count": 33,
   "id": "b2203aa6",
   "metadata": {},
   "outputs": [
    {
     "name": "stdout",
     "output_type": "stream",
     "text": [
      "10 20 //10 55 66\n"
     ]
    }
   ],
   "source": [
    "print(10,20,end=' //')\n",
    "print(10,55,66)"
   ]
  },
  {
   "cell_type": "code",
   "execution_count": 34,
   "id": "67f5d04d",
   "metadata": {},
   "outputs": [],
   "source": [
    "#ifelse"
   ]
  },
  {
   "cell_type": "code",
   "execution_count": 35,
   "id": "5d1d487b",
   "metadata": {},
   "outputs": [
    {
     "data": {
      "text/plain": [
       "1"
      ]
     },
     "execution_count": 35,
     "metadata": {},
     "output_type": "execute_result"
    }
   ],
   "source": [
    "n=43\n",
    "n%2"
   ]
  },
  {
   "cell_type": "code",
   "execution_count": 36,
   "id": "3d9da84b",
   "metadata": {},
   "outputs": [
    {
     "data": {
      "text/plain": [
       "False"
      ]
     },
     "execution_count": 36,
     "metadata": {},
     "output_type": "execute_result"
    }
   ],
   "source": [
    "n=43\n",
    "n%2==0"
   ]
  },
  {
   "cell_type": "code",
   "execution_count": 39,
   "id": "73f669f8",
   "metadata": {},
   "outputs": [
    {
     "name": "stdout",
     "output_type": "stream",
     "text": [
      "even\n"
     ]
    }
   ],
   "source": [
    "n=40\n",
    "if n%2==0:\n",
    "    print('even')"
   ]
  },
  {
   "cell_type": "code",
   "execution_count": 41,
   "id": "60a8b54d",
   "metadata": {},
   "outputs": [
    {
     "name": "stdout",
     "output_type": "stream",
     "text": [
      "odd\n"
     ]
    }
   ],
   "source": [
    "n=41\n",
    "if n%2==0:\n",
    "    print('even')\n",
    "else:\n",
    "    print('odd')"
   ]
  },
  {
   "cell_type": "code",
   "execution_count": 56,
   "id": "1447aa63",
   "metadata": {},
   "outputs": [
    {
     "name": "stdout",
     "output_type": "stream",
     "text": [
      "type a no:0\n",
      "zero se bada no daba pagal\n"
     ]
    }
   ],
   "source": [
    "n=int(input(\"type a no:\"))\n",
    "if n>0:\n",
    "    print('positive')\n",
    "elif n<0:\n",
    "    print('negative')\n",
    "else:\n",
    "    print('zero se bada no daba pagal')\n",
    "    \n",
    "    "
   ]
  },
  {
   "cell_type": "code",
   "execution_count": 59,
   "id": "81497227",
   "metadata": {},
   "outputs": [
    {
     "name": "stdout",
     "output_type": "stream",
     "text": [
      "type your age:5\n",
      "18 sal ke hone k baad try krio\n"
     ]
    }
   ],
   "source": [
    "n=int(input(\"type your age:\"))\n",
    "if n>=18:\n",
    "    print('you can vote')\n",
    "else:\n",
    "    print ('18 sal ke hone k baad try krio')"
   ]
  },
  {
   "cell_type": "code",
   "execution_count": 62,
   "id": "64c26a93",
   "metadata": {},
   "outputs": [
    {
     "name": "stdout",
     "output_type": "stream",
     "text": [
      "gurpreet is 32years old and his father is 62 \n"
     ]
    }
   ],
   "source": [
    "x=32\n",
    "y=62\n",
    "print(\"gurpreet is {}years old and his father is {} \".format(x,y))"
   ]
  },
  {
   "cell_type": "code",
   "execution_count": 9,
   "id": "f14b7227",
   "metadata": {},
   "outputs": [
    {
     "name": "stdout",
     "output_type": "stream",
     "text": [
      " a no:55.1\n",
      "bie\n"
     ]
    }
   ],
   "source": [
    "n=float(input (\" a no:\"))\n",
    "if n%5 ==0.1 or n%3==0.1:\n",
    "    print('sahi jwab aap jit gye 300 rupay')\n",
    "else:\n",
    "    print('bie')"
   ]
  },
  {
   "cell_type": "code",
   "execution_count": 4,
   "id": "27c9d08e",
   "metadata": {},
   "outputs": [
    {
     "name": "stdout",
     "output_type": "stream",
     "text": [
      "enter your work hour:10\n",
      "enter your rate:100\n",
      "1100.0\n"
     ]
    }
   ],
   "source": [
    "h=float(input('enter your work hour:'))\n",
    "r=float(input('enter your rate:'))\n",
    "pay =(h*r)\n",
    "if h>8:\n",
    "    pay=8*r+(h-8)*r*1.5\n",
    "print(pay)"
   ]
  },
  {
   "cell_type": "code",
   "execution_count": 3,
   "id": "ba75c810",
   "metadata": {},
   "outputs": [
    {
     "data": {
      "text/plain": [
       "874991.25"
      ]
     },
     "execution_count": 3,
     "metadata": {},
     "output_type": "execute_result"
    }
   ],
   "source": [
    "pay\n"
   ]
  },
  {
   "cell_type": "code",
   "execution_count": null,
   "id": "a7cf256c",
   "metadata": {},
   "outputs": [],
   "source": []
  }
 ],
 "metadata": {
  "kernelspec": {
   "display_name": "Python 3 (ipykernel)",
   "language": "python",
   "name": "python3"
  },
  "language_info": {
   "codemirror_mode": {
    "name": "ipython",
    "version": 3
   },
   "file_extension": ".py",
   "mimetype": "text/x-python",
   "name": "python",
   "nbconvert_exporter": "python",
   "pygments_lexer": "ipython3",
   "version": "3.10.2"
  }
 },
 "nbformat": 4,
 "nbformat_minor": 5
}
