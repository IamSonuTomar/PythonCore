{
 "cells": [
  {
   "cell_type": "code",
   "execution_count": null,
   "id": "3c99782b",
   "metadata": {},
   "outputs": [],
   "source": [
    "#sum \n",
    "#max\n"
   ]
  },
  {
   "cell_type": "code",
   "execution_count": 1,
   "id": "9fd63e22",
   "metadata": {},
   "outputs": [
    {
     "data": {
      "text/plain": [
       "[9, 6, 5, 4, 3, 2]"
      ]
     },
     "execution_count": 1,
     "metadata": {},
     "output_type": "execute_result"
    }
   ],
   "source": [
    "s={2,3,3,4,5,6,3,2,9,5,4,}\n",
    "sorted(s,reverse= True)"
   ]
  },
  {
   "cell_type": "code",
   "execution_count": 2,
   "id": "29b6cb86",
   "metadata": {},
   "outputs": [
    {
     "data": {
      "text/plain": [
       "1.2"
      ]
     },
     "execution_count": 2,
     "metadata": {},
     "output_type": "execute_result"
    }
   ],
   "source": [
    "12/10\n"
   ]
  },
  {
   "cell_type": "code",
   "execution_count": 3,
   "id": "0030cf56",
   "metadata": {},
   "outputs": [
    {
     "data": {
      "text/plain": [
       "1"
      ]
     },
     "execution_count": 3,
     "metadata": {},
     "output_type": "execute_result"
    }
   ],
   "source": [
    "12//10"
   ]
  },
  {
   "cell_type": "code",
   "execution_count": 4,
   "id": "27575f43",
   "metadata": {},
   "outputs": [
    {
     "data": {
      "text/plain": [
       "2"
      ]
     },
     "execution_count": 4,
     "metadata": {},
     "output_type": "execute_result"
    }
   ],
   "source": [
    "12%10"
   ]
  },
  {
   "cell_type": "code",
   "execution_count": 5,
   "id": "962c0f0c",
   "metadata": {},
   "outputs": [
    {
     "data": {
      "text/plain": [
       "(1, 2)"
      ]
     },
     "execution_count": 5,
     "metadata": {},
     "output_type": "execute_result"
    }
   ],
   "source": [
    "divmod(12,10)"
   ]
  },
  {
   "cell_type": "code",
   "execution_count": 6,
   "id": "f3616282",
   "metadata": {},
   "outputs": [
    {
     "data": {
      "text/plain": [
       "4.0"
      ]
     },
     "execution_count": 6,
     "metadata": {},
     "output_type": "execute_result"
    }
   ],
   "source": [
    "pow(16,0.5)"
   ]
  },
  {
   "cell_type": "code",
   "execution_count": 7,
   "id": "f474b9ea",
   "metadata": {},
   "outputs": [
    {
     "data": {
      "text/plain": [
       "9"
      ]
     },
     "execution_count": 7,
     "metadata": {},
     "output_type": "execute_result"
    }
   ],
   "source": [
    "max(s)"
   ]
  },
  {
   "cell_type": "code",
   "execution_count": 8,
   "id": "bc555766",
   "metadata": {},
   "outputs": [
    {
     "data": {
      "text/plain": [
       "29"
      ]
     },
     "execution_count": 8,
     "metadata": {},
     "output_type": "execute_result"
    }
   ],
   "source": [
    "sum(s)"
   ]
  },
  {
   "cell_type": "code",
   "execution_count": 9,
   "id": "640e98a3",
   "metadata": {},
   "outputs": [
    {
     "data": {
      "text/plain": [
       "2"
      ]
     },
     "execution_count": 9,
     "metadata": {},
     "output_type": "execute_result"
    }
   ],
   "source": [
    "min(s)"
   ]
  },
  {
   "cell_type": "code",
   "execution_count": 10,
   "id": "0fcc6bc8",
   "metadata": {},
   "outputs": [
    {
     "data": {
      "text/plain": [
       "6"
      ]
     },
     "execution_count": 10,
     "metadata": {},
     "output_type": "execute_result"
    }
   ],
   "source": [
    "len(s)"
   ]
  },
  {
   "cell_type": "code",
   "execution_count": 11,
   "id": "c4c92c7b",
   "metadata": {},
   "outputs": [
    {
     "data": {
      "text/plain": [
       "104"
      ]
     },
     "execution_count": 11,
     "metadata": {},
     "output_type": "execute_result"
    }
   ],
   "source": [
    "round(104.3)"
   ]
  },
  {
   "cell_type": "code",
   "execution_count": 12,
   "id": "b40404a5",
   "metadata": {},
   "outputs": [
    {
     "data": {
      "text/plain": [
       "106"
      ]
     },
     "execution_count": 12,
     "metadata": {},
     "output_type": "execute_result"
    }
   ],
   "source": [
    "round(105.6)"
   ]
  },
  {
   "cell_type": "code",
   "execution_count": 13,
   "id": "b8980ea5",
   "metadata": {},
   "outputs": [
    {
     "data": {
      "text/plain": [
       "15783735500888598504963833856"
      ]
     },
     "execution_count": 13,
     "metadata": {},
     "output_type": "execute_result"
    }
   ],
   "source": [
    "pow(16,22)*51"
   ]
  },
  {
   "cell_type": "code",
   "execution_count": 14,
   "id": "c4e9f142",
   "metadata": {},
   "outputs": [
    {
     "data": {
      "text/plain": [
       "105.29"
      ]
     },
     "execution_count": 14,
     "metadata": {},
     "output_type": "execute_result"
    }
   ],
   "source": [
    "round(105.28799,2)"
   ]
  },
  {
   "cell_type": "code",
   "execution_count": 15,
   "id": "31b08e0c",
   "metadata": {},
   "outputs": [],
   "source": [
    "def double(x):\n",
    "    return x*2\n"
   ]
  },
  {
   "cell_type": "code",
   "execution_count": 16,
   "id": "77cd14f1",
   "metadata": {},
   "outputs": [
    {
     "data": {
      "text/plain": [
       "6"
      ]
     },
     "execution_count": 16,
     "metadata": {},
     "output_type": "execute_result"
    }
   ],
   "source": [
    "double (3)"
   ]
  },
  {
   "cell_type": "code",
   "execution_count": 18,
   "id": "be173428",
   "metadata": {},
   "outputs": [
    {
     "data": {
      "text/plain": [
       "(24, 68, 90, 130, 178, 956)"
      ]
     },
     "execution_count": 18,
     "metadata": {},
     "output_type": "execute_result"
    }
   ],
   "source": [
    "x=map(double,[12,34,45,65,89,478])\n",
    "tuple(x)"
   ]
  },
  {
   "cell_type": "code",
   "execution_count": 20,
   "id": "cfd5352f",
   "metadata": {},
   "outputs": [
    {
     "data": {
      "text/plain": [
       "4"
      ]
     },
     "execution_count": 20,
     "metadata": {},
     "output_type": "execute_result"
    }
   ],
   "source": [
    "def inc (n):\n",
    "    return n+1\n",
    "inc(3)"
   ]
  },
  {
   "cell_type": "code",
   "execution_count": 21,
   "id": "651e901c",
   "metadata": {},
   "outputs": [
    {
     "data": {
      "text/plain": [
       "(13, 35, 57, 90, 86, 56, 57, 89, 57, 46, 117, 47, 100)"
      ]
     },
     "execution_count": 21,
     "metadata": {},
     "output_type": "execute_result"
    }
   ],
   "source": [
    "x= map(inc,[12,34,56,89,85,55,56,88,56,45,116,46,99])\n",
    "tuple(x)"
   ]
  },
  {
   "cell_type": "code",
   "execution_count": 22,
   "id": "d03affb6",
   "metadata": {},
   "outputs": [
    {
     "data": {
      "text/plain": [
       "filter"
      ]
     },
     "execution_count": 22,
     "metadata": {},
     "output_type": "execute_result"
    }
   ],
   "source": [
    "filter\n"
   ]
  },
  {
   "cell_type": "code",
   "execution_count": 24,
   "id": "6da30227",
   "metadata": {},
   "outputs": [],
   "source": [
    "var=[1,3,42,4,255,56,67,89,68,745.649,839,6384,65]"
   ]
  },
  {
   "cell_type": "code",
   "execution_count": 26,
   "id": "4912ce74",
   "metadata": {},
   "outputs": [],
   "source": [
    "def is_even (x): \n",
    "    return x%2==0"
   ]
  },
  {
   "cell_type": "code",
   "execution_count": 27,
   "id": "46ad8cf1",
   "metadata": {},
   "outputs": [
    {
     "data": {
      "text/plain": [
       "[42, 4, 56, 68, 6384]"
      ]
     },
     "execution_count": 27,
     "metadata": {},
     "output_type": "execute_result"
    }
   ],
   "source": [
    "x=filter(is_even,var)\n",
    "list(x)"
   ]
  },
  {
   "cell_type": "code",
   "execution_count": 28,
   "id": "73520ba2",
   "metadata": {},
   "outputs": [],
   "source": [
    "##############################################################################"
   ]
  },
  {
   "cell_type": "code",
   "execution_count": 29,
   "id": "b5907fa2",
   "metadata": {},
   "outputs": [],
   "source": [
    "#list\n"
   ]
  },
  {
   "cell_type": "code",
   "execution_count": 30,
   "id": "dc83b4d2",
   "metadata": {},
   "outputs": [],
   "source": [
    "v=[]"
   ]
  },
  {
   "cell_type": "code",
   "execution_count": 32,
   "id": "a09595b3",
   "metadata": {
    "scrolled": true
   },
   "outputs": [
    {
     "data": {
      "text/plain": [
       "list"
      ]
     },
     "execution_count": 32,
     "metadata": {},
     "output_type": "execute_result"
    }
   ],
   "source": [
    "type(v) "
   ]
  },
  {
   "cell_type": "code",
   "execution_count": 34,
   "id": "f8036e6b",
   "metadata": {},
   "outputs": [
    {
     "data": {
      "text/plain": [
       "['__add__',\n",
       " '__class__',\n",
       " '__class_getitem__',\n",
       " '__contains__',\n",
       " '__delattr__',\n",
       " '__delitem__',\n",
       " '__dir__',\n",
       " '__doc__',\n",
       " '__eq__',\n",
       " '__format__',\n",
       " '__ge__',\n",
       " '__getattribute__',\n",
       " '__getitem__',\n",
       " '__gt__',\n",
       " '__hash__',\n",
       " '__iadd__',\n",
       " '__imul__',\n",
       " '__init__',\n",
       " '__init_subclass__',\n",
       " '__iter__',\n",
       " '__le__',\n",
       " '__len__',\n",
       " '__lt__',\n",
       " '__mul__',\n",
       " '__ne__',\n",
       " '__new__',\n",
       " '__reduce__',\n",
       " '__reduce_ex__',\n",
       " '__repr__',\n",
       " '__reversed__',\n",
       " '__rmul__',\n",
       " '__setattr__',\n",
       " '__setitem__',\n",
       " '__sizeof__',\n",
       " '__str__',\n",
       " '__subclasshook__',\n",
       " 'append',\n",
       " 'clear',\n",
       " 'copy',\n",
       " 'count',\n",
       " 'extend',\n",
       " 'index',\n",
       " 'insert',\n",
       " 'pop',\n",
       " 'remove',\n",
       " 'reverse',\n",
       " 'sort']"
      ]
     },
     "execution_count": 34,
     "metadata": {},
     "output_type": "execute_result"
    }
   ],
   "source": [
    "dir(v)"
   ]
  },
  {
   "cell_type": "code",
   "execution_count": 35,
   "id": "19248626",
   "metadata": {},
   "outputs": [
    {
     "name": "stdout",
     "output_type": "stream",
     "text": [
      "append\n",
      "clear\n",
      "copy\n",
      "count\n",
      "extend\n",
      "index\n",
      "insert\n",
      "pop\n",
      "remove\n",
      "reverse\n",
      "sort\n"
     ]
    }
   ],
   "source": [
    "for data in dir (v):\n",
    "    if '__' not in data :\n",
    "        print (data)"
   ]
  },
  {
   "cell_type": "code",
   "execution_count": 37,
   "id": "372b9c10",
   "metadata": {},
   "outputs": [],
   "source": [
    "v.append(12)"
   ]
  },
  {
   "cell_type": "code",
   "execution_count": 38,
   "id": "c4d75e73",
   "metadata": {},
   "outputs": [
    {
     "data": {
      "text/plain": [
       "[12]"
      ]
     },
     "execution_count": 38,
     "metadata": {},
     "output_type": "execute_result"
    }
   ],
   "source": [
    "v"
   ]
  },
  {
   "cell_type": "code",
   "execution_count": 41,
   "id": "aad1c105",
   "metadata": {},
   "outputs": [
    {
     "data": {
      "text/plain": [
       "[12, [10, 32], [10, 32], [10, 32]]"
      ]
     },
     "execution_count": 41,
     "metadata": {},
     "output_type": "execute_result"
    }
   ],
   "source": [
    "v.append([10,32])\n",
    "v"
   ]
  },
  {
   "cell_type": "code",
   "execution_count": 42,
   "id": "c551fd7e",
   "metadata": {},
   "outputs": [
    {
     "data": {
      "text/plain": [
       "[12, [10, 32], [10, 32], [10, 32], 'hello']"
      ]
     },
     "execution_count": 42,
     "metadata": {},
     "output_type": "execute_result"
    }
   ],
   "source": [
    "list.append(v,'hello')\n",
    "v"
   ]
  },
  {
   "cell_type": "code",
   "execution_count": 43,
   "id": "b6f4bfd0",
   "metadata": {},
   "outputs": [
    {
     "data": {
      "text/plain": [
       "[100, 12, [10, 32], [10, 32], [10, 32], 'hello']"
      ]
     },
     "execution_count": 43,
     "metadata": {},
     "output_type": "execute_result"
    }
   ],
   "source": [
    "v.insert(0,100)\n",
    "v"
   ]
  },
  {
   "cell_type": "code",
   "execution_count": 45,
   "id": "6a3d2d85",
   "metadata": {},
   "outputs": [
    {
     "data": {
      "text/plain": [
       "[100,\n",
       " 12,\n",
       " [10, 32],\n",
       " [10, 32],\n",
       " [10, 32],\n",
       " 'hello',\n",
       " 100,\n",
       " 230,\n",
       " 56,\n",
       " 9889,\n",
       " 45,\n",
       " 56,\n",
       " 779,\n",
       " 56,\n",
       " 23,\n",
       " 45,\n",
       " 100,\n",
       " 230,\n",
       " 56,\n",
       " 9889,\n",
       " 45,\n",
       " 56,\n",
       " 779,\n",
       " 56,\n",
       " 23,\n",
       " 45]"
      ]
     },
     "execution_count": 45,
     "metadata": {},
     "output_type": "execute_result"
    }
   ],
   "source": [
    "a=[100,230,56,9889,45,56,779,56,23,45]\n",
    "v.extend(a)\n",
    "v"
   ]
  },
  {
   "cell_type": "code",
   "execution_count": 47,
   "id": "57e6e808",
   "metadata": {},
   "outputs": [
    {
     "data": {
      "text/plain": [
       "[45,\n",
       " 23,\n",
       " 56,\n",
       " 779,\n",
       " 56,\n",
       " 45,\n",
       " 9889,\n",
       " 56,\n",
       " 230,\n",
       " 100,\n",
       " 45,\n",
       " 23,\n",
       " 56,\n",
       " 779,\n",
       " 56,\n",
       " 45,\n",
       " 9889,\n",
       " 56,\n",
       " 230,\n",
       " 100,\n",
       " 'hello',\n",
       " [10, 32],\n",
       " [10, 32],\n",
       " [10, 32],\n",
       " 12,\n",
       " 100]"
      ]
     },
     "execution_count": 47,
     "metadata": {},
     "output_type": "execute_result"
    }
   ],
   "source": [
    "v.reverse()\n",
    "v"
   ]
  },
  {
   "cell_type": "code",
   "execution_count": 48,
   "id": "d9a714f0",
   "metadata": {},
   "outputs": [
    {
     "data": {
      "text/plain": [
       "20"
      ]
     },
     "execution_count": 48,
     "metadata": {},
     "output_type": "execute_result"
    }
   ],
   "source": [
    "v.index('hello')"
   ]
  },
  {
   "cell_type": "code",
   "execution_count": 49,
   "id": "c84f3bed",
   "metadata": {},
   "outputs": [
    {
     "data": {
      "text/plain": [
       "'hello'"
      ]
     },
     "execution_count": 49,
     "metadata": {},
     "output_type": "execute_result"
    }
   ],
   "source": [
    "v.pop(20)"
   ]
  },
  {
   "cell_type": "code",
   "execution_count": 50,
   "id": "1b2e7d53",
   "metadata": {},
   "outputs": [
    {
     "data": {
      "text/plain": [
       "[10, 32]"
      ]
     },
     "execution_count": 50,
     "metadata": {},
     "output_type": "execute_result"
    }
   ],
   "source": [
    "v.pop(-3)"
   ]
  },
  {
   "cell_type": "code",
   "execution_count": 54,
   "id": "357412b8",
   "metadata": {},
   "outputs": [
    {
     "data": {
      "text/plain": [
       "[45,\n",
       " 23,\n",
       " 56,\n",
       " 779,\n",
       " 56,\n",
       " 45,\n",
       " 9889,\n",
       " 56,\n",
       " 230,\n",
       " 100,\n",
       " 45,\n",
       " 23,\n",
       " 56,\n",
       " 779,\n",
       " 56,\n",
       " 45,\n",
       " 9889,\n",
       " 56,\n",
       " 230,\n",
       " 100,\n",
       " [10, 32],\n",
       " [10, 32],\n",
       " 12,\n",
       " 100]"
      ]
     },
     "execution_count": 54,
     "metadata": {},
     "output_type": "execute_result"
    }
   ],
   "source": [
    "v.reverse()\n",
    "v"
   ]
  },
  {
   "cell_type": "code",
   "execution_count": 55,
   "id": "dfcff93d",
   "metadata": {},
   "outputs": [
    {
     "data": {
      "text/plain": [
       "[45,\n",
       " 23,\n",
       " 56,\n",
       " 779,\n",
       " 56,\n",
       " 45,\n",
       " 9889,\n",
       " 56,\n",
       " 230,\n",
       " 100,\n",
       " 45,\n",
       " 23,\n",
       " 56,\n",
       " 779,\n",
       " 56,\n",
       " 45,\n",
       " 9889,\n",
       " 56,\n",
       " 230,\n",
       " 100,\n",
       " [10, 32],\n",
       " [10, 32],\n",
       " 12,\n",
       " 100]"
      ]
     },
     "execution_count": 55,
     "metadata": {},
     "output_type": "execute_result"
    }
   ],
   "source": [
    "v"
   ]
  },
  {
   "cell_type": "code",
   "execution_count": 56,
   "id": "c6cfd3f1",
   "metadata": {},
   "outputs": [
    {
     "data": {
      "text/plain": [
       "[45,\n",
       " 23,\n",
       " 56,\n",
       " 779,\n",
       " 56,\n",
       " 45,\n",
       " 9889,\n",
       " 56,\n",
       " 230,\n",
       " 100,\n",
       " 45,\n",
       " 23,\n",
       " 56,\n",
       " 779,\n",
       " 56,\n",
       " 45,\n",
       " 9889,\n",
       " 56,\n",
       " 230,\n",
       " 100,\n",
       " [10, 32],\n",
       " [10, 32],\n",
       " 12,\n",
       " 100]"
      ]
     },
     "execution_count": 56,
     "metadata": {},
     "output_type": "execute_result"
    }
   ],
   "source": [
    "v"
   ]
  },
  {
   "cell_type": "code",
   "execution_count": 59,
   "id": "e29c9d91",
   "metadata": {},
   "outputs": [],
   "source": [
    "v.remove([10,32])"
   ]
  },
  {
   "cell_type": "code",
   "execution_count": 61,
   "id": "db36f589",
   "metadata": {},
   "outputs": [
    {
     "name": "stdout",
     "output_type": "stream",
     "text": [
      "[45, 23, 56, 779, 56, 45, 9889, 56, 230, 100, 45, 23, 56, 779, 56, 45, 9889, 56, 230, 100, 12, 100] "
     ]
    }
   ],
   "source": [
    "print(v,end=\" \")"
   ]
  },
  {
   "cell_type": "code",
   "execution_count": 62,
   "id": "0a027a65",
   "metadata": {},
   "outputs": [
    {
     "data": {
      "text/plain": [
       "[9889,\n",
       " 9889,\n",
       " 779,\n",
       " 779,\n",
       " 230,\n",
       " 230,\n",
       " 100,\n",
       " 100,\n",
       " 100,\n",
       " 56,\n",
       " 56,\n",
       " 56,\n",
       " 56,\n",
       " 56,\n",
       " 56,\n",
       " 45,\n",
       " 45,\n",
       " 45,\n",
       " 45,\n",
       " 23,\n",
       " 23,\n",
       " 12]"
      ]
     },
     "execution_count": 62,
     "metadata": {},
     "output_type": "execute_result"
    }
   ],
   "source": [
    "v.sort(reverse=True)\n",
    "v"
   ]
  },
  {
   "cell_type": "code",
   "execution_count": 65,
   "id": "c53268ff",
   "metadata": {},
   "outputs": [
    {
     "data": {
      "text/plain": [
       "[]"
      ]
     },
     "execution_count": 65,
     "metadata": {},
     "output_type": "execute_result"
    }
   ],
   "source": [
    "v.clear()\n",
    "v"
   ]
  },
  {
   "cell_type": "code",
   "execution_count": 66,
   "id": "0c3fe891",
   "metadata": {},
   "outputs": [
    {
     "data": {
      "text/plain": [
       "(2114104352960, 2114104353088)"
      ]
     },
     "execution_count": 66,
     "metadata": {},
     "output_type": "execute_result"
    }
   ],
   "source": [
    "ls=[12,34]\n",
    "ls2=ls.copy()\n",
    "id(ls2),id(ls)"
   ]
  },
  {
   "cell_type": "code",
   "execution_count": 67,
   "id": "af680835",
   "metadata": {},
   "outputs": [],
   "source": [
    "ls2[-1]=23"
   ]
  },
  {
   "cell_type": "code",
   "execution_count": 68,
   "id": "a3001c50",
   "metadata": {},
   "outputs": [
    {
     "data": {
      "text/plain": [
       "[12, 34]"
      ]
     },
     "execution_count": 68,
     "metadata": {},
     "output_type": "execute_result"
    }
   ],
   "source": [
    "ls"
   ]
  },
  {
   "cell_type": "code",
   "execution_count": 69,
   "id": "eabdbc04",
   "metadata": {},
   "outputs": [
    {
     "data": {
      "text/plain": [
       "[12, 23]"
      ]
     },
     "execution_count": 69,
     "metadata": {},
     "output_type": "execute_result"
    }
   ],
   "source": [
    "ls2"
   ]
  },
  {
   "cell_type": "code",
   "execution_count": 71,
   "id": "a606e369",
   "metadata": {},
   "outputs": [
    {
     "data": {
      "text/plain": [
       "tuple"
      ]
     },
     "execution_count": 71,
     "metadata": {},
     "output_type": "execute_result"
    }
   ],
   "source": [
    "t=()\n",
    "type(t)"
   ]
  },
  {
   "cell_type": "code",
   "execution_count": 72,
   "id": "a77879bd",
   "metadata": {},
   "outputs": [
    {
     "name": "stdout",
     "output_type": "stream",
     "text": [
      "count\n",
      "index\n"
     ]
    }
   ],
   "source": [
    "for data in dir (tuple):\n",
    "    if \"__\" not in data:\n",
    "        print (data)"
   ]
  },
  {
   "cell_type": "code",
   "execution_count": 74,
   "id": "6c55e727",
   "metadata": {},
   "outputs": [
    {
     "data": {
      "text/plain": [
       "1"
      ]
     },
     "execution_count": 74,
     "metadata": {},
     "output_type": "execute_result"
    }
   ],
   "source": [
    "t=(45,6,7,8,98,87,54)\n",
    "t.count(98)"
   ]
  },
  {
   "cell_type": "code",
   "execution_count": 75,
   "id": "0960d2c1",
   "metadata": {},
   "outputs": [
    {
     "data": {
      "text/plain": [
       "4"
      ]
     },
     "execution_count": 75,
     "metadata": {},
     "output_type": "execute_result"
    }
   ],
   "source": [
    "t.index(98)"
   ]
  },
  {
   "cell_type": "code",
   "execution_count": 77,
   "id": "7c896bb9",
   "metadata": {},
   "outputs": [
    {
     "name": "stdout",
     "output_type": "stream",
     "text": [
      "clear\n",
      "copy\n",
      "fromkeys\n",
      "get\n",
      "items\n",
      "keys\n",
      "pop\n",
      "popitem\n",
      "setdefault\n",
      "update\n",
      "values\n"
     ]
    }
   ],
   "source": [
    "for data in dir (dict):\n",
    "    if \"__\" not in data:\n",
    "        print (data)"
   ]
  },
  {
   "cell_type": "code",
   "execution_count": 78,
   "id": "478b8a9a",
   "metadata": {},
   "outputs": [],
   "source": [
    "d={'a':34,'b':76,'c':34}"
   ]
  },
  {
   "cell_type": "code",
   "execution_count": 80,
   "id": "a98e30e9",
   "metadata": {},
   "outputs": [
    {
     "data": {
      "text/plain": [
       "dict_keys(['a', 'b', 'c'])"
      ]
     },
     "execution_count": 80,
     "metadata": {},
     "output_type": "execute_result"
    }
   ],
   "source": [
    "d.keys()"
   ]
  },
  {
   "cell_type": "code",
   "execution_count": 82,
   "id": "4ab5c2ca",
   "metadata": {},
   "outputs": [
    {
     "data": {
      "text/plain": [
       "dict_values([34, 76, 34])"
      ]
     },
     "execution_count": 82,
     "metadata": {},
     "output_type": "execute_result"
    }
   ],
   "source": [
    "d.values()"
   ]
  },
  {
   "cell_type": "code",
   "execution_count": 83,
   "id": "92f03080",
   "metadata": {},
   "outputs": [
    {
     "data": {
      "text/plain": [
       "dict_items([('a', 34), ('b', 76), ('c', 34)])"
      ]
     },
     "execution_count": 83,
     "metadata": {},
     "output_type": "execute_result"
    }
   ],
   "source": [
    "d.items()"
   ]
  },
  {
   "cell_type": "code",
   "execution_count": 84,
   "id": "6fe3dbf5",
   "metadata": {},
   "outputs": [
    {
     "data": {
      "text/plain": [
       "34"
      ]
     },
     "execution_count": 84,
     "metadata": {},
     "output_type": "execute_result"
    }
   ],
   "source": [
    "d.get('a')"
   ]
  },
  {
   "cell_type": "code",
   "execution_count": 85,
   "id": "b3bd36af",
   "metadata": {},
   "outputs": [
    {
     "data": {
      "text/plain": [
       "'value'"
      ]
     },
     "execution_count": 85,
     "metadata": {},
     "output_type": "execute_result"
    }
   ],
   "source": [
    "d.setdefault('new','value')"
   ]
  },
  {
   "cell_type": "code",
   "execution_count": null,
   "id": "18ddf374",
   "metadata": {},
   "outputs": [],
   "source": []
  }
 ],
 "metadata": {
  "kernelspec": {
   "display_name": "Python 3 (ipykernel)",
   "language": "python",
   "name": "python3"
  },
  "language_info": {
   "codemirror_mode": {
    "name": "ipython",
    "version": 3
   },
   "file_extension": ".py",
   "mimetype": "text/x-python",
   "name": "python",
   "nbconvert_exporter": "python",
   "pygments_lexer": "ipython3",
   "version": "3.10.2"
  }
 },
 "nbformat": 4,
 "nbformat_minor": 5
}
