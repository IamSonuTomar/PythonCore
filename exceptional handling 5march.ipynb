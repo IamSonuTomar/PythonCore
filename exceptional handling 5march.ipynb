{
 "cells": [
  {
   "cell_type": "markdown",
   "id": "6c02c705",
   "metadata": {},
   "source": [
    "EXCEPTION HANDLING"
   ]
  },
  {
   "cell_type": "code",
   "execution_count": 1,
   "id": "91d3abae",
   "metadata": {},
   "outputs": [],
   "source": [
    "#when an error occurs ,or exception as we call it python will normally stop and generate an error message .these exceptions can be handled using the try statement: the try block lets you test a block of code for errors . the except block lets you handle the errror . the else block lets you excecute code when there is no error. the finally blocklets you exceute code ,regardless of the result of the try and except blocks . "
   ]
  },
  {
   "cell_type": "code",
   "execution_count": 2,
   "id": "30a499ca",
   "metadata": {},
   "outputs": [
    {
     "name": "stdout",
     "output_type": "stream",
     "text": [
      "an exception occured\n"
     ]
    }
   ],
   "source": [
    "try :\n",
    "    print(x)\n",
    "except :\n",
    "    print(\"an exception occured\")"
   ]
  },
  {
   "cell_type": "code",
   "execution_count": 6,
   "id": "18e81cb0",
   "metadata": {},
   "outputs": [
    {
     "name": "stdout",
     "output_type": "stream",
     "text": [
      "put right integer\n",
      "have a nice day\n"
     ]
    }
   ],
   "source": [
    "try:\n",
    "    x=3\n",
    "    y=0\n",
    "    z=x/y\n",
    "    print(z)\n",
    "except ZeroDivisionError:\n",
    "    print(\"put right integer\")\n",
    "finally :\n",
    "    print(\"have a nice day\")"
   ]
  },
  {
   "cell_type": "code",
   "execution_count": 7,
   "id": "9fb6f15a",
   "metadata": {},
   "outputs": [
    {
     "ename": "ZeroDivisionError",
     "evalue": "division by zero",
     "output_type": "error",
     "traceback": [
      "\u001b[1;31m---------------------------------------------------------------------------\u001b[0m",
      "\u001b[1;31mZeroDivisionError\u001b[0m                         Traceback (most recent call last)",
      "Input \u001b[1;32mIn [7]\u001b[0m, in \u001b[0;36m<module>\u001b[1;34m\u001b[0m\n\u001b[0;32m      1\u001b[0m x\u001b[38;5;241m=\u001b[39m\u001b[38;5;241m3\u001b[39m\n\u001b[0;32m      2\u001b[0m y\u001b[38;5;241m=\u001b[39m\u001b[38;5;241m0\u001b[39m\n\u001b[1;32m----> 3\u001b[0m z\u001b[38;5;241m=\u001b[39m\u001b[43mx\u001b[49m\u001b[38;5;241;43m/\u001b[39;49m\u001b[43my\u001b[49m\n\u001b[0;32m      4\u001b[0m \u001b[38;5;28mprint\u001b[39m(z)\n",
      "\u001b[1;31mZeroDivisionError\u001b[0m: division by zero"
     ]
    }
   ],
   "source": [
    "x=3\n",
    "y=0\n",
    "z=x/y\n",
    "print(z)"
   ]
  },
  {
   "cell_type": "code",
   "execution_count": 8,
   "id": "2009d6a5",
   "metadata": {},
   "outputs": [
    {
     "name": "stdout",
     "output_type": "stream",
     "text": [
      "put  integer here\n",
      "have a nice day\n"
     ]
    }
   ],
   "source": [
    "try:\n",
    "    x=3\n",
    "    y='hello'\n",
    "    z=x+y\n",
    "    print(z)\n",
    "except TypeError:\n",
    "    print('put  integer here')\n",
    "finally :\n",
    "    print('have a nice day')"
   ]
  },
  {
   "cell_type": "code",
   "execution_count": 9,
   "id": "31be070d",
   "metadata": {},
   "outputs": [
    {
     "ename": "TypeError",
     "evalue": "unsupported operand type(s) for +: 'int' and 'str'",
     "output_type": "error",
     "traceback": [
      "\u001b[1;31m---------------------------------------------------------------------------\u001b[0m",
      "\u001b[1;31mTypeError\u001b[0m                                 Traceback (most recent call last)",
      "Input \u001b[1;32mIn [9]\u001b[0m, in \u001b[0;36m<module>\u001b[1;34m\u001b[0m\n\u001b[0;32m      1\u001b[0m x\u001b[38;5;241m=\u001b[39m\u001b[38;5;241m3\u001b[39m\n\u001b[0;32m      2\u001b[0m y\u001b[38;5;241m=\u001b[39m\u001b[38;5;124m'\u001b[39m\u001b[38;5;124mhello\u001b[39m\u001b[38;5;124m'\u001b[39m\n\u001b[1;32m----> 3\u001b[0m z\u001b[38;5;241m=\u001b[39m\u001b[43mx\u001b[49m\u001b[38;5;241;43m+\u001b[39;49m\u001b[43my\u001b[49m\n\u001b[0;32m      4\u001b[0m \u001b[38;5;28mprint\u001b[39m(z)\n",
      "\u001b[1;31mTypeError\u001b[0m: unsupported operand type(s) for +: 'int' and 'str'"
     ]
    }
   ],
   "source": [
    "x=3\n",
    "y='hello'\n",
    "z=x+y\n",
    "print(z)"
   ]
  },
  {
   "cell_type": "code",
   "execution_count": 10,
   "id": "b1183eee",
   "metadata": {},
   "outputs": [
    {
     "name": "stdout",
     "output_type": "stream",
     "text": [
      "honesty\n",
      "all is well \n",
      "\n"
     ]
    }
   ],
   "source": [
    "#else block :you can use the else keyword to defin ea block of code to be exceuted if no errors were raised:\n",
    "try :\n",
    "    print(\"honesty\")\n",
    "except :\n",
    "    print(\"error occured \")\n",
    "else :\n",
    "    print(\"all is well \")\n",
    "finally :\n",
    "    print(\"\")"
   ]
  },
  {
   "cell_type": "code",
   "execution_count": 11,
   "id": "a3b8560b",
   "metadata": {},
   "outputs": [
    {
     "name": "stdout",
     "output_type": "stream",
     "text": [
      "honesty\n",
      "all is well \n",
      " good luck\n"
     ]
    }
   ],
   "source": [
    "try :\n",
    "    print(\"honesty\")\n",
    "except :\n",
    "    print(\"error occured \")\n",
    "else :\n",
    "    print(\"all is well \")\n",
    "finally :\n",
    "    print(\" good luck\")"
   ]
  },
  {
   "cell_type": "code",
   "execution_count": 16,
   "id": "7d89f2b1",
   "metadata": {},
   "outputs": [
    {
     "name": "stdout",
     "output_type": "stream",
     "text": [
      "error occured \n",
      " good luck\n"
     ]
    }
   ],
   "source": [
    "try :\n",
    "    print(\"x\"+ 45)\n",
    "except :\n",
    "    print(\"error occured \")\n",
    "else :\n",
    "    print(\"all is well \")\n",
    "finally :\n",
    "    print(\" good luck\")"
   ]
  },
  {
   "cell_type": "code",
   "execution_count": 29,
   "id": "1cf3b37f",
   "metadata": {},
   "outputs": [
    {
     "name": "stdout",
     "output_type": "stream",
     "text": [
      "enter your age : 2.0\n",
      "wrong input\n",
      "choose wisely\n"
     ]
    }
   ],
   "source": [
    "\n",
    "try:\n",
    "    a=int (input (\"enter your age : \"))\n",
    "    if  a>=18:\n",
    "        print(\"you can vote \")\n",
    "    else :\n",
    "        print(\"you are not eligible\")\n",
    "except :\n",
    "    print(\"wrong input\")\n",
    "else:\n",
    "    print(\"move to booth no 2\")\n",
    "finally:\n",
    "    print(\"choose wisely\")"
   ]
  },
  {
   "cell_type": "code",
   "execution_count": 32,
   "id": "07e82b84",
   "metadata": {},
   "outputs": [
    {
     "ename": "Exception",
     "evalue": "sorry no no. accepted below zero",
     "output_type": "error",
     "traceback": [
      "\u001b[1;31m---------------------------------------------------------------------------\u001b[0m",
      "\u001b[1;31mException\u001b[0m                                 Traceback (most recent call last)",
      "Input \u001b[1;32mIn [32]\u001b[0m, in \u001b[0;36m<module>\u001b[1;34m\u001b[0m\n\u001b[0;32m      1\u001b[0m x\u001b[38;5;241m=\u001b[39m\u001b[38;5;241m-\u001b[39m\u001b[38;5;241m1\u001b[39m\n\u001b[0;32m      2\u001b[0m \u001b[38;5;28;01mif\u001b[39;00m x\u001b[38;5;241m<\u001b[39m\u001b[38;5;241m0\u001b[39m:\n\u001b[1;32m----> 3\u001b[0m     \u001b[38;5;28;01mraise\u001b[39;00m \u001b[38;5;167;01mException\u001b[39;00m (\u001b[38;5;124m\"\u001b[39m\u001b[38;5;124msorry no no. accepted below zero\u001b[39m\u001b[38;5;124m\"\u001b[39m)\n",
      "\u001b[1;31mException\u001b[0m: sorry no no. accepted below zero"
     ]
    }
   ],
   "source": [
    "x=-1\n",
    "if x<0:\n",
    "    raise Exception (\"sorry no no. accepted below zero\")"
   ]
  },
  {
   "cell_type": "code",
   "execution_count": null,
   "id": "a5e458c1",
   "metadata": {},
   "outputs": [],
   "source": []
  }
 ],
 "metadata": {
  "kernelspec": {
   "display_name": "Python 3 (ipykernel)",
   "language": "python",
   "name": "python3"
  },
  "language_info": {
   "codemirror_mode": {
    "name": "ipython",
    "version": 3
   },
   "file_extension": ".py",
   "mimetype": "text/x-python",
   "name": "python",
   "nbconvert_exporter": "python",
   "pygments_lexer": "ipython3",
   "version": "3.10.2"
  }
 },
 "nbformat": 4,
 "nbformat_minor": 5
}
