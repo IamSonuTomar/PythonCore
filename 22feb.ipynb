{
 "cells": [
  {
   "cell_type": "code",
   "execution_count": 1,
   "id": "a633deec",
   "metadata": {},
   "outputs": [
    {
     "data": {
      "text/plain": [
       "0"
      ]
     },
     "execution_count": 1,
     "metadata": {},
     "output_type": "execute_result"
    }
   ],
   "source": [
    "21%3"
   ]
  },
  {
   "cell_type": "code",
   "execution_count": 45,
   "id": "32c72b92",
   "metadata": {},
   "outputs": [
    {
     "data": {
      "text/plain": [
       "12"
      ]
     },
     "execution_count": 45,
     "metadata": {},
     "output_type": "execute_result"
    }
   ],
   "source": [
    "123//10 #//is a quoltient\n"
   ]
  },
  {
   "cell_type": "code",
   "execution_count": 46,
   "id": "b328f590",
   "metadata": {},
   "outputs": [
    {
     "data": {
      "text/plain": [
       "3"
      ]
     },
     "execution_count": 46,
     "metadata": {},
     "output_type": "execute_result"
    }
   ],
   "source": [
    "123%10 #% its used for knowing remainder   divisor = q*divident+reamainder,** is used as exponent formula"
   ]
  },
  {
   "cell_type": "code",
   "execution_count": 4,
   "id": "dd2bd954",
   "metadata": {},
   "outputs": [
    {
     "data": {
      "text/plain": [
       "1"
      ]
     },
     "execution_count": 4,
     "metadata": {},
     "output_type": "execute_result"
    }
   ],
   "source": [
    "1%10"
   ]
  },
  {
   "cell_type": "code",
   "execution_count": 5,
   "id": "c924468d",
   "metadata": {},
   "outputs": [
    {
     "data": {
      "text/plain": [
       "34"
      ]
     },
     "execution_count": 5,
     "metadata": {},
     "output_type": "execute_result"
    }
   ],
   "source": [
    "1234%100"
   ]
  },
  {
   "cell_type": "code",
   "execution_count": 8,
   "id": "badeedfd",
   "metadata": {},
   "outputs": [
    {
     "data": {
      "text/plain": [
       "16"
      ]
     },
     "execution_count": 8,
     "metadata": {},
     "output_type": "execute_result"
    }
   ],
   "source": [
    "2**4"
   ]
  },
  {
   "cell_type": "code",
   "execution_count": 9,
   "id": "51b4be6b",
   "metadata": {},
   "outputs": [
    {
     "data": {
      "text/plain": [
       "4.101565929702347"
      ]
     },
     "execution_count": 9,
     "metadata": {},
     "output_type": "execute_result"
    }
   ],
   "source": [
    "69**(1/3)"
   ]
  },
  {
   "cell_type": "code",
   "execution_count": 20,
   "id": "c95e398b",
   "metadata": {},
   "outputs": [],
   "source": [
    "pi=22/7\n",
    "r=2\n",
    "h=3\n",
    "area=pi*r*(r+(r**2+h**2)**0.5)\n"
   ]
  },
  {
   "cell_type": "code",
   "execution_count": 21,
   "id": "c655d075",
   "metadata": {},
   "outputs": [
    {
     "data": {
      "text/plain": [
       "35.23489373148794"
      ]
     },
     "execution_count": 21,
     "metadata": {},
     "output_type": "execute_result"
    }
   ],
   "source": [
    "area"
   ]
  },
  {
   "cell_type": "code",
   "execution_count": 22,
   "id": "0ebf283e",
   "metadata": {},
   "outputs": [
    {
     "data": {
      "text/plain": [
       "True"
      ]
     },
     "execution_count": 22,
     "metadata": {},
     "output_type": "execute_result"
    }
   ],
   "source": [
    "12in[12,30,40]"
   ]
  },
  {
   "cell_type": "code",
   "execution_count": 23,
   "id": "f2de5c4d",
   "metadata": {},
   "outputs": [
    {
     "data": {
      "text/plain": [
       "False"
      ]
     },
     "execution_count": 23,
     "metadata": {},
     "output_type": "execute_result"
    }
   ],
   "source": [
    "45in[115,24]"
   ]
  },
  {
   "cell_type": "code",
   "execution_count": 24,
   "id": "77488d64",
   "metadata": {},
   "outputs": [
    {
     "data": {
      "text/plain": [
       "True"
      ]
     },
     "execution_count": 24,
     "metadata": {},
     "output_type": "execute_result"
    }
   ],
   "source": [
    "\".py\"in \"flie.py\""
   ]
  },
  {
   "cell_type": "code",
   "execution_count": 26,
   "id": "3c2477b9",
   "metadata": {},
   "outputs": [
    {
     "data": {
      "text/plain": [
       "True"
      ]
     },
     "execution_count": 26,
     "metadata": {},
     "output_type": "execute_result"
    }
   ],
   "source": [
    "m=55\n",
    "m>=50 and m<=60\n"
   ]
  },
  {
   "cell_type": "code",
   "execution_count": 34,
   "id": "bbd5c297",
   "metadata": {},
   "outputs": [
    {
     "data": {
      "text/plain": [
       "True"
      ]
     },
     "execution_count": 34,
     "metadata": {},
     "output_type": "execute_result"
    }
   ],
   "source": [
    "c='A1'\n",
    "(c>='0' and c<='5') or (c>='A'and c<='Z')"
   ]
  },
  {
   "cell_type": "code",
   "execution_count": 41,
   "id": "a1ee9fff",
   "metadata": {},
   "outputs": [
    {
     "name": "stdout",
     "output_type": "stream",
     "text": [
      "?*\n",
      "number: False\n",
      "Alpha: False\n",
      "special character: True\n"
     ]
    }
   ],
   "source": [
    "c=input(\"?\")\n",
    "print('number:', c>'0' and c<='9')\n",
    "print(\"Alpha:\", (c>='a' and c<='z') or (c>='A'and c<='Z'))\n",
    "cmd =(c>='0' and c<='9') or (c>='a' and c<='z') or (c>='A' and c<='Z')\n",
    "print(\"special character:\",not cmd)"
   ]
  },
  {
   "cell_type": "code",
   "execution_count": 44,
   "id": "075d06a0",
   "metadata": {},
   "outputs": [
    {
     "name": "stdout",
     "output_type": "stream",
     "text": [
      "button daba:/\n",
      "number: False\n",
      "Alpha: False\n",
      "special character True\n"
     ]
    }
   ],
   "source": [
    "c=input(\"button daba:\")\n",
    "print('number:', c>'0' and c<='9')\n",
    "print(\"Alpha:\", (c>='a' and c<='z') or (c>='A'and c<='Z'))\n",
    "cmd =(c>='0' and c<='9') or (c>='a' and c<='z') or (c>='A' and c<='Z')\n",
    "print(\"special character\",not cmd)"
   ]
  },
  {
   "cell_type": "code",
   "execution_count": null,
   "id": "a23fc0b7",
   "metadata": {},
   "outputs": [],
   "source": []
  }
 ],
 "metadata": {
  "kernelspec": {
   "display_name": "Python 3 (ipykernel)",
   "language": "python",
   "name": "python3"
  },
  "language_info": {
   "codemirror_mode": {
    "name": "ipython",
    "version": 3
   },
   "file_extension": ".py",
   "mimetype": "text/x-python",
   "name": "python",
   "nbconvert_exporter": "python",
   "pygments_lexer": "ipython3",
   "version": "3.10.2"
  }
 },
 "nbformat": 4,
 "nbformat_minor": 5
}
