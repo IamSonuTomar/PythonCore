{
 "cells": [
  {
   "cell_type": "code",
   "execution_count": 2,
   "id": "3efc5853",
   "metadata": {},
   "outputs": [
    {
     "data": {
      "text/plain": [
       "32"
      ]
     },
     "execution_count": 2,
     "metadata": {},
     "output_type": "execute_result"
    }
   ],
   "source": [
    "a=12\n",
    "b=20\n",
    "a+b"
   ]
  },
  {
   "cell_type": "code",
   "execution_count": 4,
   "id": "d307d351",
   "metadata": {},
   "outputs": [
    {
     "data": {
      "text/plain": [
       "'total=200'"
      ]
     },
     "execution_count": 4,
     "metadata": {},
     "output_type": "execute_result"
    }
   ],
   "source": [
    "a=200\n",
    "\"total=\"+str(a)"
   ]
  },
  {
   "cell_type": "code",
   "execution_count": 5,
   "id": "c2b14e67",
   "metadata": {},
   "outputs": [
    {
     "data": {
      "text/plain": [
       "30"
      ]
     },
     "execution_count": 5,
     "metadata": {},
     "output_type": "execute_result"
    }
   ],
   "source": [
    "a=\"10\"\n",
    "b=\"20\"\n",
    "int(a)+int(b)"
   ]
  },
  {
   "cell_type": "code",
   "execution_count": 6,
   "id": "4de612b6",
   "metadata": {},
   "outputs": [
    {
     "data": {
      "text/plain": [
       "30"
      ]
     },
     "execution_count": 6,
     "metadata": {},
     "output_type": "execute_result"
    }
   ],
   "source": [
    "sonu_=20\n",
    "aka12=10\n",
    "sonu_+aka12\n"
   ]
  },
  {
   "cell_type": "code",
   "execution_count": 7,
   "id": "280ffb9f",
   "metadata": {},
   "outputs": [
    {
     "data": {
      "text/plain": [
       "2"
      ]
     },
     "execution_count": 7,
     "metadata": {},
     "output_type": "execute_result"
    }
   ],
   "source": [
    "True+True"
   ]
  },
  {
   "cell_type": "code",
   "execution_count": 100,
   "id": "1f964359",
   "metadata": {},
   "outputs": [
    {
     "data": {
      "text/plain": [
       "0"
      ]
     },
     "execution_count": 100,
     "metadata": {},
     "output_type": "execute_result"
    }
   ],
   "source": [
    "False*2"
   ]
  },
  {
   "cell_type": "code",
   "execution_count": 9,
   "id": "714a9ba3",
   "metadata": {},
   "outputs": [
    {
     "data": {
      "text/plain": [
       "0"
      ]
     },
     "execution_count": 9,
     "metadata": {},
     "output_type": "execute_result"
    }
   ],
   "source": [
    "False*2"
   ]
  },
  {
   "cell_type": "code",
   "execution_count": 12,
   "id": "f2918f88",
   "metadata": {},
   "outputs": [
    {
     "data": {
      "text/plain": [
       "20.0"
      ]
     },
     "execution_count": 12,
     "metadata": {},
     "output_type": "execute_result"
    }
   ],
   "source": [
    "c=20-10j\n",
    "c.real"
   ]
  },
  {
   "cell_type": "code",
   "execution_count": 13,
   "id": "8f77ba28",
   "metadata": {},
   "outputs": [
    {
     "data": {
      "text/plain": [
       "-10.0"
      ]
     },
     "execution_count": 13,
     "metadata": {},
     "output_type": "execute_result"
    }
   ],
   "source": [
    "c.imag"
   ]
  },
  {
   "cell_type": "code",
   "execution_count": 18,
   "id": "4deb3727",
   "metadata": {},
   "outputs": [
    {
     "data": {
      "text/plain": [
       "'ABCDE'"
      ]
     },
     "execution_count": 18,
     "metadata": {},
     "output_type": "execute_result"
    }
   ],
   "source": [
    "s=\"aAbBcCdDeE\"\n",
    "s[1::2]"
   ]
  },
  {
   "cell_type": "code",
   "execution_count": 19,
   "id": "85b23f59",
   "metadata": {},
   "outputs": [],
   "source": [
    "s=\"tomarsonu110037gmail.com\""
   ]
  },
  {
   "cell_type": "code",
   "execution_count": 1,
   "id": "1e88f585",
   "metadata": {},
   "outputs": [
    {
     "data": {
      "text/plain": [
       "'tomarsonu11003@'"
      ]
     },
     "execution_count": 1,
     "metadata": {},
     "output_type": "execute_result"
    }
   ],
   "source": [
    "s=\"tomarsonu110037gmail.com\"\n",
    "s[:14:]\n",
    "t=\"@\"\n",
    "s[:14:]+t"
   ]
  },
  {
   "cell_type": "code",
   "execution_count": 2,
   "id": "26758dd4",
   "metadata": {},
   "outputs": [
    {
     "data": {
      "text/plain": [
       "'tomarsonu11003@7gmail.com'"
      ]
     },
     "execution_count": 2,
     "metadata": {},
     "output_type": "execute_result"
    }
   ],
   "source": [
    "s[:14]+\"@\"+s[14:]"
   ]
  },
  {
   "cell_type": "code",
   "execution_count": 24,
   "id": "dce5c143",
   "metadata": {},
   "outputs": [
    {
     "data": {
      "text/plain": [
       "0.3000000000000007"
      ]
     },
     "execution_count": 24,
     "metadata": {},
     "output_type": "execute_result"
    }
   ],
   "source": [
    "10-9.7\n"
   ]
  },
  {
   "cell_type": "code",
   "execution_count": 101,
   "id": "fc6ee69b",
   "metadata": {},
   "outputs": [
    {
     "data": {
      "text/plain": [
       "99"
      ]
     },
     "execution_count": 101,
     "metadata": {},
     "output_type": "execute_result"
    }
   ],
   "source": [
    "ls=[1,2,344947,445,4]\n",
    "ls[0]=99\n",
    "ls[0]"
   ]
  },
  {
   "cell_type": "code",
   "execution_count": 3,
   "id": "ba3725cc",
   "metadata": {},
   "outputs": [
    {
     "name": "stdout",
     "output_type": "stream",
     "text": [
      "[1, 2, [123, 99854]]\n"
     ]
    }
   ],
   "source": [
    "shoppin=[1,2,[11,22]]\n",
    "list=shoppin[-1]\n",
    "list[-1]=99854\n",
    "shoppin[-1][0]=123\n",
    "print (shoppin)\n"
   ]
  },
  {
   "cell_type": "code",
   "execution_count": 37,
   "id": "0ea6365f",
   "metadata": {},
   "outputs": [
    {
     "data": {
      "text/plain": [
       "[[1, 2, 3, 4], [5, 'red', 7, 8], [9, 10, 11, 12]]"
      ]
     },
     "execution_count": 37,
     "metadata": {},
     "output_type": "execute_result"
    }
   ],
   "source": [
    "ls=[[1,2,3,4],[5,6,7,8],[9,10,11,12]]\n",
    "ls[1][1]='red'\n",
    "ls"
   ]
  },
  {
   "cell_type": "code",
   "execution_count": 46,
   "id": "18fc3180",
   "metadata": {},
   "outputs": [
    {
     "data": {
      "text/plain": [
       "'sh'"
      ]
     },
     "execution_count": 46,
     "metadata": {},
     "output_type": "execute_result"
    }
   ],
   "source": [
    "name=[\"aaka\",\"hs\",\"hs\",\"hd\"]\n",
    "name[1][::-1]"
   ]
  },
  {
   "cell_type": "code",
   "execution_count": 4,
   "id": "89a88610",
   "metadata": {},
   "outputs": [
    {
     "data": {
      "text/plain": [
       "[11, 22]"
      ]
     },
     "execution_count": 4,
     "metadata": {},
     "output_type": "execute_result"
    }
   ],
   "source": [
    "t=(1,2,3,[11,22])\n",
    "t[-1]"
   ]
  },
  {
   "cell_type": "code",
   "execution_count": 5,
   "id": "7cd68bc2",
   "metadata": {},
   "outputs": [],
   "source": [
    "t[-1][0]=99 #in tuple only a list can be modify "
   ]
  },
  {
   "cell_type": "code",
   "execution_count": 6,
   "id": "806e385e",
   "metadata": {},
   "outputs": [
    {
     "data": {
      "text/plain": [
       "(1, 2, 3, [99, 22])"
      ]
     },
     "execution_count": 6,
     "metadata": {},
     "output_type": "execute_result"
    }
   ],
   "source": [
    "t"
   ]
  },
  {
   "cell_type": "code",
   "execution_count": 72,
   "id": "36e083d0",
   "metadata": {},
   "outputs": [],
   "source": [
    "s={1,2,2,2,3,3,1,3}"
   ]
  },
  {
   "cell_type": "code",
   "execution_count": 73,
   "id": "6f4e39c7",
   "metadata": {},
   "outputs": [
    {
     "data": {
      "text/plain": [
       "{1, 2, 3}"
      ]
     },
     "execution_count": 73,
     "metadata": {},
     "output_type": "execute_result"
    }
   ],
   "source": [
    "s"
   ]
  },
  {
   "cell_type": "code",
   "execution_count": 1,
   "id": "abe873bc",
   "metadata": {},
   "outputs": [],
   "source": [
    "s={1,2,2,2,3,3,3,}\n",
    "we = list(s)"
   ]
  },
  {
   "cell_type": "code",
   "execution_count": 2,
   "id": "cfbc2f46",
   "metadata": {},
   "outputs": [
    {
     "data": {
      "text/plain": [
       "[1, 2, 3]"
      ]
     },
     "execution_count": 2,
     "metadata": {},
     "output_type": "execute_result"
    }
   ],
   "source": [
    "we"
   ]
  },
  {
   "cell_type": "code",
   "execution_count": 119,
   "id": "5ac2853e",
   "metadata": {},
   "outputs": [
    {
     "data": {
      "text/plain": [
       "{4}"
      ]
     },
     "execution_count": 119,
     "metadata": {},
     "output_type": "execute_result"
    }
   ],
   "source": [
    "s1={1,2,3,4}\n",
    "s2={1,2,3,5,6}\n",
    "s1-s2"
   ]
  },
  {
   "cell_type": "markdown",
   "id": "887d9c68",
   "metadata": {},
   "source": [
    "# dictioneries "
   ]
  },
  {
   "cell_type": "code",
   "execution_count": 4,
   "id": "665f3165",
   "metadata": {},
   "outputs": [],
   "source": [
    "d={\"a\":100,\"b\":200}"
   ]
  },
  {
   "cell_type": "code",
   "execution_count": 5,
   "id": "51f3a1f4",
   "metadata": {},
   "outputs": [
    {
     "data": {
      "text/plain": [
       "{'a': 100, 'b': 200}"
      ]
     },
     "execution_count": 5,
     "metadata": {},
     "output_type": "execute_result"
    }
   ],
   "source": [
    "d"
   ]
  },
  {
   "cell_type": "code",
   "execution_count": 6,
   "id": "3da0bdf0",
   "metadata": {},
   "outputs": [
    {
     "data": {
      "text/plain": [
       "100"
      ]
     },
     "execution_count": 6,
     "metadata": {},
     "output_type": "execute_result"
    }
   ],
   "source": [
    "d[\"a\"]"
   ]
  },
  {
   "cell_type": "code",
   "execution_count": 7,
   "id": "554abbba",
   "metadata": {},
   "outputs": [],
   "source": [
    "d[\"c\"]=300"
   ]
  },
  {
   "cell_type": "code",
   "execution_count": 8,
   "id": "80e5ae8a",
   "metadata": {},
   "outputs": [
    {
     "data": {
      "text/plain": [
       "{'a': 100, 'b': 200, 'c': 300}"
      ]
     },
     "execution_count": 8,
     "metadata": {},
     "output_type": "execute_result"
    }
   ],
   "source": [
    "d"
   ]
  },
  {
   "cell_type": "code",
   "execution_count": 9,
   "id": "802c6f74",
   "metadata": {},
   "outputs": [
    {
     "data": {
      "text/plain": [
       "300"
      ]
     },
     "execution_count": 9,
     "metadata": {},
     "output_type": "execute_result"
    }
   ],
   "source": [
    "d[\"c\"]"
   ]
  },
  {
   "cell_type": "code",
   "execution_count": 10,
   "id": "6f5f6c4d",
   "metadata": {},
   "outputs": [],
   "source": [
    "d[\"a\"]=99"
   ]
  },
  {
   "cell_type": "code",
   "execution_count": 11,
   "id": "91e3e6e5",
   "metadata": {},
   "outputs": [
    {
     "data": {
      "text/plain": [
       "99"
      ]
     },
     "execution_count": 11,
     "metadata": {},
     "output_type": "execute_result"
    }
   ],
   "source": [
    "d[\"a\"]"
   ]
  },
  {
   "cell_type": "code",
   "execution_count": 4,
   "id": "e79e9882",
   "metadata": {},
   "outputs": [],
   "source": [
    "shopping=[\"salt\",\"pulse\",\"soap\",\"oil\"]\n",
    "shop=[\"samalka\"]\n",
    "var=shopping+shop"
   ]
  },
  {
   "cell_type": "code",
   "execution_count": 5,
   "id": "9fa103a0",
   "metadata": {},
   "outputs": [
    {
     "data": {
      "text/plain": [
       "['salt', 'pulse', 'soap', 'oil', 'samalka']"
      ]
     },
     "execution_count": 5,
     "metadata": {},
     "output_type": "execute_result"
    }
   ],
   "source": [
    "var"
   ]
  },
  {
   "cell_type": "code",
   "execution_count": null,
   "id": "04295f2b",
   "metadata": {},
   "outputs": [],
   "source": []
  }
 ],
 "metadata": {
  "kernelspec": {
   "display_name": "Python 3 (ipykernel)",
   "language": "python",
   "name": "python3"
  },
  "language_info": {
   "codemirror_mode": {
    "name": "ipython",
    "version": 3
   },
   "file_extension": ".py",
   "mimetype": "text/x-python",
   "name": "python",
   "nbconvert_exporter": "python",
   "pygments_lexer": "ipython3",
   "version": "3.10.2"
  }
 },
 "nbformat": 4,
 "nbformat_minor": 5
}
