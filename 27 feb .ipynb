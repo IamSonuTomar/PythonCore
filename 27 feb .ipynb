{
 "cells": [
  {
   "cell_type": "markdown",
   "id": "35b484bb",
   "metadata": {},
   "source": [
    "# SELFMADE ASSIGNMENT"
   ]
  },
  {
   "cell_type": "code",
   "execution_count": 9,
   "id": "2477b997",
   "metadata": {},
   "outputs": [
    {
     "name": "stdout",
     "output_type": "stream",
     "text": [
      "enter amount of purchased items :89999\n",
      "your final bill sir :  44999.5 you win a free Perfume\n"
     ]
    }
   ],
   "source": [
    "#question no 1 related to fond bill after discounts\n",
    "amt=float(input('enter amount of purchased items :'))\n",
    "if amt<=1500:\n",
    "    bill= amt*0.05\n",
    "    print('your final bill sir' ,bill)\n",
    "elif amt>1500 and amt<=5000:\n",
    "    bill=amt*0.25\n",
    "    print('your final bill sir',bill)\n",
    "elif amt>=5000:\n",
    "    bill =amt*0.50\n",
    "    print('your final bill sir : ',bill,'you win a free Perfume')"
   ]
  },
  {
   "cell_type": "code",
   "execution_count": 11,
   "id": "1829edbd",
   "metadata": {},
   "outputs": [
    {
     "name": "stdout",
     "output_type": "stream",
     "text": [
      "enter a no : 3\n",
      "3 is a prime no\n"
     ]
    }
   ],
   "source": [
    "#question no 2 related to finding a prime no\n",
    "n=int(input('enter a no : '))\n",
    "for i in range (2,n):\n",
    "    if n%i==0:\n",
    "        print(n ,'is not a prime no')\n",
    "    else:\n",
    "        print(n,'is a prime no')"
   ]
  },
  {
   "cell_type": "code",
   "execution_count": 2,
   "id": "81380e18",
   "metadata": {},
   "outputs": [
    {
     "name": "stdout",
     "output_type": "stream",
     "text": [
      "enter a no: 256\n",
      "256.0\n"
     ]
    }
   ],
   "source": [
    "#question no 3 related to finding the square of a no is divisible by 11 if yes then print square root of the no \n",
    "n=int(input('enter a no: '))\n",
    "v=n*n\n",
    "if v%2==0:\n",
    "    x=v**0.5\n",
    "    print(x)\n",
    "else:\n",
    "    print (n,'square of is not divisible by 11')"
   ]
  },
  {
   "cell_type": "code",
   "execution_count": 3,
   "id": "4349727f",
   "metadata": {},
   "outputs": [
    {
     "name": "stdout",
     "output_type": "stream",
     "text": [
      "['apple', 'banana', 'cherry', 'surf excel', 'lux', 'vim', 'nirma']\n"
     ]
    }
   ],
   "source": [
    "x=['apple','banana','cherry']\n",
    "y=['surf excel','lux','vim','indigo']\n",
    "z=x+y\n",
    "z[6]='nirma'\n",
    "print(z)"
   ]
  },
  {
   "cell_type": "code",
   "execution_count": 1,
   "id": "9829964e",
   "metadata": {},
   "outputs": [
    {
     "name": "stdout",
     "output_type": "stream",
     "text": [
      "15\n"
     ]
    }
   ],
   "source": [
    "x=5\n",
    "x+=10\n",
    "print(x)"
   ]
  },
  {
   "cell_type": "code",
   "execution_count": 12,
   "id": "70b67e91",
   "metadata": {},
   "outputs": [
    {
     "data": {
      "text/plain": [
       "[7, 6, 5, 3, 1, 1, 1]"
      ]
     },
     "execution_count": 12,
     "metadata": {},
     "output_type": "execute_result"
    }
   ],
   "source": [
    "l=[1,1,1,3,5,6,7]\n",
    "l[::-1]"
   ]
  },
  {
   "cell_type": "code",
   "execution_count": 3,
   "id": "12e0fb1c",
   "metadata": {},
   "outputs": [
    {
     "name": "stdout",
     "output_type": "stream",
     "text": [
      "enter first interval : 1\n",
      "enter last interval : 100\n",
      "2\n",
      "3\n",
      "5\n",
      "7\n",
      "11\n",
      "13\n",
      "17\n",
      "19\n",
      "23\n",
      "29\n",
      "31\n",
      "37\n",
      "41\n",
      "43\n",
      "47\n",
      "53\n",
      "59\n",
      "61\n",
      "67\n",
      "71\n",
      "73\n",
      "79\n",
      "83\n",
      "89\n",
      "97\n"
     ]
    }
   ],
   "source": [
    "#finding a prime no in a given interval:\n",
    "low=int(input('enter first interval : '))\n",
    "upp=int(input('enter last interval : '))\n",
    "for num in range (low,upp+1):\n",
    "    if num>1:\n",
    "        for i in range (2,num):\n",
    "            if(num%i)==0:\n",
    "                break\n",
    "        else:ls"
   ]
  },
  {
   "cell_type": "code",
   "execution_count": null,
   "id": "fd1791b2",
   "metadata": {},
   "outputs": [],
   "source": [
    "x=2565\n",
    "print (x)"
   ]
  },
  {
   "cell_type": "code",
   "execution_count": null,
   "id": "b13046f7",
   "metadata": {},
   "outputs": [],
   "source": []
  }
 ],
 "metadata": {
  "kernelspec": {
   "display_name": "Python 3 (ipykernel)",
   "language": "python",
   "name": "python3"
  },
  "language_info": {
   "codemirror_mode": {
    "name": "ipython",
    "version": 3
   },
   "file_extension": ".py",
   "mimetype": "text/x-python",
   "name": "python",
   "nbconvert_exporter": "python",
   "pygments_lexer": "ipython3",
   "version": "3.10.2"
  }
 },
 "nbformat": 4,
 "nbformat_minor": 5
}
