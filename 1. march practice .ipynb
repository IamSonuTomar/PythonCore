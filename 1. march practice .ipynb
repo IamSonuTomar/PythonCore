{
 "cells": [
  {
   "cell_type": "markdown",
   "id": "93e92446",
   "metadata": {},
   "source": [
    "# Append function "
   ]
  },
  {
   "cell_type": "code",
   "execution_count": 2,
   "id": "0ba4b771",
   "metadata": {},
   "outputs": [],
   "source": [
    "a=[10,20,30,40,5,80,9,89.2]\n"
   ]
  },
  {
   "cell_type": "code",
   "execution_count": 3,
   "id": "3959cd74",
   "metadata": {},
   "outputs": [
    {
     "data": {
      "text/plain": [
       "[10, 20, 30, 40, 5, 80, 9, 89.2]"
      ]
     },
     "execution_count": 3,
     "metadata": {},
     "output_type": "execute_result"
    }
   ],
   "source": [
    "a"
   ]
  },
  {
   "cell_type": "code",
   "execution_count": 9,
   "id": "2549c640",
   "metadata": {},
   "outputs": [],
   "source": [
    "a.append(10) "
   ]
  },
  {
   "cell_type": "code",
   "execution_count": 10,
   "id": "440d431a",
   "metadata": {},
   "outputs": [
    {
     "data": {
      "text/plain": [
       "[10, 20, 30, 40, 5, 80, 9, 89.2, 10, 10]"
      ]
     },
     "execution_count": 10,
     "metadata": {},
     "output_type": "execute_result"
    }
   ],
   "source": [
    "a"
   ]
  },
  {
   "cell_type": "code",
   "execution_count": null,
   "id": "7a90d354",
   "metadata": {},
   "outputs": [],
   "source": []
  }
 ],
 "metadata": {
  "kernelspec": {
   "display_name": "Python 3 (ipykernel)",
   "language": "python",
   "name": "python3"
  },
  "language_info": {
   "codemirror_mode": {
    "name": "ipython",
    "version": 3
   },
   "file_extension": ".py",
   "mimetype": "text/x-python",
   "name": "python",
   "nbconvert_exporter": "python",
   "pygments_lexer": "ipython3",
   "version": "3.10.2"
  }
 },
 "nbformat": 4,
 "nbformat_minor": 5
}
