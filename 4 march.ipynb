{
 "cells": [
  {
   "cell_type": "code",
   "execution_count": 1,
   "id": "5e21d09a",
   "metadata": {},
   "outputs": [],
   "source": [
    "#encapsulation means in python describes the concept of bundling data and methods within a single unit .\n",
    "#for example : when you create a class it means you are implementing encapsulation .a class is an example of encapsulation as it bunds all the data members and methods into a single units.\n"
   ]
  },
  {
   "cell_type": "code",
   "execution_count": 2,
   "id": "2c340c7c",
   "metadata": {},
   "outputs": [
    {
     "name": "stdout",
     "output_type": "stream",
     "text": [
      "name: mayur salary 40000\n",
      "mayur is working on deep learning\n"
     ]
    }
   ],
   "source": [
    "class employee:\n",
    "    def __init__(self,name,salary,project):\n",
    "        self.name=name\n",
    "        self.salary=salary\n",
    "        self.project=project\n",
    "    def show (self):\n",
    "        print(\"name:\",self.name,'salary',self.salary)\n",
    "    def work (self):\n",
    "        print(self.name,\"is working on\",self.project)\n",
    "emp=employee('mayur',40000,\"deep learning\")\n",
    "\n",
    "emp.show()\n",
    "emp.work()\n",
    "        "
   ]
  },
  {
   "cell_type": "code",
   "execution_count": 3,
   "id": "3a7cbc80",
   "metadata": {},
   "outputs": [
    {
     "name": "stdout",
     "output_type": "stream",
     "text": [
      "parrot can fly\n",
      "parrot can't swim \n",
      "penguin can't fly\n",
      "penguin can swim\n"
     ]
    }
   ],
   "source": [
    "#polymorphism\n",
    "class parrot:\n",
    "    def fly(self):\n",
    "        print(\"parrot can fly\")\n",
    "    def swim (self):\n",
    "        print (\"parrot can't swim \")\n",
    "class penguin :\n",
    "    def fly (self):\n",
    "        print(\"penguin can't fly\")\n",
    "    def swim (self):\n",
    "        print(\"penguin can swim\")\n",
    "def flying_test(self):\n",
    "    self.fly()\n",
    "    self.swim()\n",
    "    \n",
    "bird=parrot()\n",
    "peggy=penguin()\n",
    "\n",
    "flying_test(bird)\n",
    "flying_test(peggy)"
   ]
  },
  {
   "cell_type": "code",
   "execution_count": 5,
   "id": "91fa7d64",
   "metadata": {},
   "outputs": [
    {
     "name": "stdout",
     "output_type": "stream",
     "text": [
      "new delhi\n",
      "hindi, english\n",
      "washington\n",
      "english\n"
     ]
    }
   ],
   "source": [
    "class india ():\n",
    "    def capital(self):\n",
    "        print(\"new delhi\")\n",
    "    def language(self):\n",
    "        print(\"hindi, english\")\n",
    "class  usa ():\n",
    "    def capital (self):\n",
    "        print(\"washington\")\n",
    "    def language(self):\n",
    "        print(\"english\")\n",
    "ind=india()\n",
    "usa=usa()\n",
    "for country in (ind,usa):\n",
    "    country.capital()\n",
    "    country.language()"
   ]
  },
  {
   "cell_type": "code",
   "execution_count": 16,
   "id": "c9733b82",
   "metadata": {},
   "outputs": [
    {
     "name": "stdout",
     "output_type": "stream",
     "text": [
      "8\n",
      "4\n",
      "['soap', 'ajay']\n",
      "ffxnhgyujfgc.khu\n"
     ]
    }
   ],
   "source": [
    "class maths :\n",
    "    def f(self,a,b):\n",
    "        self.a=a\n",
    "        self.b=b\n",
    "        self.c=a**b\n",
    "        print(self.c)\n",
    "    def k(self,x,y):\n",
    "        self.x=x\n",
    "        self.y=y\n",
    "        self.z=x%y\n",
    "        print(self.z)\n",
    "class state :\n",
    "    def f(self,a,b):\n",
    "        v=[\"soap\",\"ajay\"]\n",
    "        print(v)\n",
    "    def k(self,x,y):\n",
    "        print(\"ffxnhgyujfgc.khu\")\n",
    "j=maths()\n",
    "h=state()\n",
    "for i in (j,h):\n",
    "    i.f(2,3)\n",
    "    i.k(4,5)\n",
    "# print(j.c)\n",
    "# print(j.z)\n",
    "        \n",
    "        \n",
    "    "
   ]
  },
  {
   "cell_type": "code",
   "execution_count": null,
   "id": "512fbfa5",
   "metadata": {},
   "outputs": [],
   "source": []
  },
  {
   "cell_type": "code",
   "execution_count": null,
   "id": "bc0726ac",
   "metadata": {},
   "outputs": [],
   "source": []
  }
 ],
 "metadata": {
  "kernelspec": {
   "display_name": "Python 3 (ipykernel)",
   "language": "python",
   "name": "python3"
  },
  "language_info": {
   "codemirror_mode": {
    "name": "ipython",
    "version": 3
   },
   "file_extension": ".py",
   "mimetype": "text/x-python",
   "name": "python",
   "nbconvert_exporter": "python",
   "pygments_lexer": "ipython3",
   "version": "3.10.2"
  }
 },
 "nbformat": 4,
 "nbformat_minor": 5
}
